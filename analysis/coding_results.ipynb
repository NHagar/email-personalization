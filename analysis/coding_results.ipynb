{
 "cells": [
  {
   "cell_type": "code",
   "execution_count": 8,
   "metadata": {},
   "outputs": [],
   "source": [
    "import ast\n",
    "\n",
    "import pandas as pd"
   ]
  },
  {
   "cell_type": "code",
   "execution_count": 25,
   "metadata": {},
   "outputs": [],
   "source": [
    "responses = pd.read_csv(\"../data/responses_full.csv\")\n",
    "codes = pd.read_csv(\"../data/coded_headlines.tsv\", sep=\"\\t\")"
   ]
  },
  {
   "cell_type": "code",
   "execution_count": 26,
   "metadata": {},
   "outputs": [],
   "source": [
    "responses['history'] = responses['history'].apply(ast.literal_eval)\n",
    "responses['choices'] = responses['choices'].apply(ast.literal_eval)\n",
    "responses = responses.drop_duplicates(subset=[\"user_id\"])"
   ]
  },
  {
   "cell_type": "code",
   "execution_count": 28,
   "metadata": {},
   "outputs": [],
   "source": [
    "def cleanup_item(item):\n",
    "    return item.replace(\"#### \", \"\").replace(\"**\", \"\").replace(\"\\n\", \". \")"
   ]
  },
  {
   "cell_type": "code",
   "execution_count": 43,
   "metadata": {},
   "outputs": [],
   "source": [
    "def expand_choices(row):\n",
    "    choices = row[\"choices\"]\n",
    "    num_selected = len(row[\"history\"])\n",
    "    generated_headlines = []\n",
    "    for _, d in choices.items():\n",
    "        options = d[\"options\"]\n",
    "        selected = d[\"selected\"]\n",
    "        for hed, source in options.items():\n",
    "            if source.lower() == \"generated\":\n",
    "                generated_headlines.append({\n",
    "                    \"headline\": cleanup_item(hed),\n",
    "                    \"was_selected\": hed == selected,\n",
    "                    \"num_selected\": num_selected\n",
    "                })\n",
    "    \n",
    "    return generated_headlines\n"
   ]
  },
  {
   "cell_type": "code",
   "execution_count": 44,
   "metadata": {},
   "outputs": [],
   "source": [
    "responses[\"gen_headlines\"] = responses.apply(expand_choices, axis=1)"
   ]
  },
  {
   "cell_type": "code",
   "execution_count": 46,
   "metadata": {},
   "outputs": [],
   "source": [
    "gen_headlines = pd.DataFrame([i for l in responses.gen_headlines.tolist() for i in l])"
   ]
  },
  {
   "cell_type": "code",
   "execution_count": 47,
   "metadata": {},
   "outputs": [],
   "source": [
    "# Merge gen_headlines with codes on headline text\n",
    "gen_headlines_with_codes = gen_headlines.merge(\n",
    "    codes,\n",
    "    left_on='headline',\n",
    "    right_on='Headline',\n",
    "    how='left'\n",
    ")"
   ]
  },
  {
   "cell_type": "code",
   "execution_count": 51,
   "metadata": {},
   "outputs": [],
   "source": [
    "def euclidian_distance(row):\n",
    "    base_coords = (1, 2)\n",
    "    row_coords = (row[\"Item number 1\"], row[\"Item number 2\"])\n",
    "    return ((base_coords[0] - row_coords[0])**2 + (base_coords[1] - row_coords[1])**2)**0.5"
   ]
  },
  {
   "cell_type": "code",
   "execution_count": 52,
   "metadata": {},
   "outputs": [],
   "source": [
    "gen_headlines_with_codes[\"distance\"] = gen_headlines_with_codes.apply(euclidian_distance, axis=1)"
   ]
  },
  {
   "cell_type": "code",
   "execution_count": 55,
   "metadata": {},
   "outputs": [
    {
     "name": "stdout",
     "output_type": "stream",
     "text": [
      "              was_selected  num_selected  distance\n",
      "was_selected      1.000000     -0.015658  0.044761\n",
      "num_selected     -0.015658      1.000000 -0.229848\n",
      "distance          0.044761     -0.229848  1.000000\n"
     ]
    }
   ],
   "source": [
    "correlations = gen_headlines_with_codes[['was_selected', 'num_selected', 'distance']].corr(method='spearman')\n",
    "print(correlations)"
   ]
  },
  {
   "cell_type": "code",
   "execution_count": null,
   "metadata": {},
   "outputs": [],
   "source": []
  }
 ],
 "metadata": {
  "kernelspec": {
   "display_name": "personalization",
   "language": "python",
   "name": "python3"
  },
  "language_info": {
   "codemirror_mode": {
    "name": "ipython",
    "version": 3
   },
   "file_extension": ".py",
   "mimetype": "text/x-python",
   "name": "python",
   "nbconvert_exporter": "python",
   "pygments_lexer": "ipython3",
   "version": "3.12.4"
  }
 },
 "nbformat": 4,
 "nbformat_minor": 2
}
