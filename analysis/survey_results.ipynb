{
 "cells": [
  {
   "cell_type": "code",
   "execution_count": 33,
   "metadata": {},
   "outputs": [],
   "source": [
    "import ast\n",
    "\n",
    "import numpy as np\n",
    "from scipy import stats\n",
    "import pandas as pd\n",
    "import matplotlib.pyplot as plt\n",
    "import seaborn as sns"
   ]
  },
  {
   "cell_type": "code",
   "execution_count": 2,
   "metadata": {},
   "outputs": [],
   "source": [
    "df = pd.read_csv(\"../data/responses_full.csv\")"
   ]
  },
  {
   "cell_type": "code",
   "execution_count": 3,
   "metadata": {},
   "outputs": [],
   "source": [
    "df['history'] = df['history'].apply(ast.literal_eval)\n",
    "df['choices'] = df['choices'].apply(ast.literal_eval)"
   ]
  },
  {
   "cell_type": "code",
   "execution_count": 4,
   "metadata": {},
   "outputs": [],
   "source": [
    "df = df.drop_duplicates(subset=[\"user_id\"])"
   ]
  },
  {
   "cell_type": "code",
   "execution_count": 5,
   "metadata": {},
   "outputs": [],
   "source": [
    "df[\"selection_count\"] = df[\"history\"].apply(len)"
   ]
  },
  {
   "cell_type": "code",
   "execution_count": 6,
   "metadata": {},
   "outputs": [],
   "source": [
    "def process_choices(choices):\n",
    "    chosen_headlines = []\n",
    "    for _, v in choices.items():\n",
    "        selected = v[\"selected\"]\n",
    "        options = v[\"options\"]\n",
    "        for hed, source in options.items():\n",
    "            if hed == selected:\n",
    "                chosen_headlines.append(source)\n",
    "    \n",
    "    return chosen_headlines"
   ]
  },
  {
   "cell_type": "code",
   "execution_count": 7,
   "metadata": {},
   "outputs": [],
   "source": [
    "df[\"preference\"] = df[\"choices\"].apply(process_choices)"
   ]
  },
  {
   "cell_type": "code",
   "execution_count": 8,
   "metadata": {},
   "outputs": [],
   "source": [
    "df[\"proportion_generated\"] = df.preference.apply(lambda x: sum([1 for y in x if y == \"Generated\"]) / len(x))"
   ]
  },
  {
   "cell_type": "code",
   "execution_count": 10,
   "metadata": {},
   "outputs": [
    {
     "data": {
      "text/html": [
       "<div>\n",
       "<style scoped>\n",
       "    .dataframe tbody tr th:only-of-type {\n",
       "        vertical-align: middle;\n",
       "    }\n",
       "\n",
       "    .dataframe tbody tr th {\n",
       "        vertical-align: top;\n",
       "    }\n",
       "\n",
       "    .dataframe thead th {\n",
       "        text-align: right;\n",
       "    }\n",
       "</style>\n",
       "<table border=\"1\" class=\"dataframe\">\n",
       "  <thead>\n",
       "    <tr style=\"text-align: right;\">\n",
       "      <th></th>\n",
       "      <th>selection_count</th>\n",
       "      <th>proportion_generated</th>\n",
       "    </tr>\n",
       "  </thead>\n",
       "  <tbody>\n",
       "    <tr>\n",
       "      <th>selection_count</th>\n",
       "      <td>1.000000</td>\n",
       "      <td>-0.094346</td>\n",
       "    </tr>\n",
       "    <tr>\n",
       "      <th>proportion_generated</th>\n",
       "      <td>-0.094346</td>\n",
       "      <td>1.000000</td>\n",
       "    </tr>\n",
       "  </tbody>\n",
       "</table>\n",
       "</div>"
      ],
      "text/plain": [
       "                      selection_count  proportion_generated\n",
       "selection_count              1.000000             -0.094346\n",
       "proportion_generated        -0.094346              1.000000"
      ]
     },
     "execution_count": 10,
     "metadata": {},
     "output_type": "execute_result"
    }
   ],
   "source": [
    "df[[\"selection_count\", \"proportion_generated\"]].corr()"
   ]
  },
  {
   "cell_type": "code",
   "execution_count": 55,
   "metadata": {},
   "outputs": [],
   "source": [
    "def analyze_binary_choices(ai_selection_count, n_responses, alpha=0.05):\n",
    "    \"\"\"\n",
    "    Analyze binary choice data.\n",
    "    \n",
    "    Parameters:\n",
    "    -----------\n",
    "    ai_selection_count : list or array\n",
    "        Number of times the AI-generated headline was chosen for each question\n",
    "    n_responses : int\n",
    "        Total number of responses per question\n",
    "    alpha : float, optional\n",
    "        Significance level for statistical tests (default: 0.05)\n",
    "        \n",
    "    Returns:\n",
    "    --------\n",
    "    dict\n",
    "        Dictionary containing analysis results\n",
    "    \"\"\"\n",
    "    # Convert inputs to numpy arrays\n",
    "    option_a_counts = np.array(ai_selection_count)\n",
    "    n_questions = len(option_a_counts)\n",
    "    total_trials = n_responses * n_questions\n",
    "    \n",
    "    # Pooled binomial test\n",
    "    total_option_a = np.sum(option_a_counts)\n",
    "    pooled_result = stats.binomtest(total_option_a, total_trials, p=0.5)\n",
    "    \n",
    "    # Calculate confidence interval for pooled proportion\n",
    "    ci = pooled_result.proportion_ci()\n",
    "    ci_lower, ci_upper = ci.low, ci.high\n",
    "\n",
    "    # Chi-square test for homogeneity\n",
    "    pooled_prop = total_option_a / total_trials\n",
    "    expected = pooled_prop * n_responses\n",
    "    chi2_stat = np.sum((option_a_counts - expected)**2 / expected + \n",
    "                      (n_responses - option_a_counts - (n_responses - expected))**2 / (n_responses - expected))\n",
    "    chi2_p = stats.chi2.sf(chi2_stat, df=n_questions-1)\n",
    "    \n",
    "    # Individual binomial tests for each question\n",
    "    individual_tests = []\n",
    "    for i, count in enumerate(option_a_counts):\n",
    "        result = stats.binomtest(count, n_responses, p=0.5)\n",
    "        ci = result.proportion_ci()\n",
    "        ci_lower, ci_upper = ci.low, ci.high\n",
    "        individual_tests.append({\n",
    "            'question': i + 1,\n",
    "            'total_generated': count,\n",
    "            'proportion': count / n_responses,\n",
    "            'statistic': result.statistic,\n",
    "            'p_value_corrected': result.pvalue * n_questions,\n",
    "            'significant_corrected': result.pvalue * n_questions < alpha,\n",
    "            'ci_lower': ci_lower,\n",
    "            'ci_upper': ci_upper\n",
    "        })\n",
    "    \n",
    "    # Compile results\n",
    "    results = {\n",
    "        'pooled_analysis': {\n",
    "            'total_generated': total_option_a,\n",
    "            'total_trials': total_trials,\n",
    "            'pooled_proportion': pooled_prop,\n",
    "            'statistic': pooled_result.statistic,\n",
    "            'p_value': pooled_result.pvalue,\n",
    "            'significant': pooled_result.pvalue < alpha,\n",
    "            'confidence_interval': (ci_lower, ci_upper)\n",
    "        },\n",
    "        'heterogeneity_test': {\n",
    "            'chi2_statistic': chi2_stat,\n",
    "            'p_value': chi2_p,\n",
    "            'df': n_questions - 1,\n",
    "            'significant': chi2_p < alpha\n",
    "        },\n",
    "        'individual_tests': individual_tests\n",
    "    }\n",
    "    \n",
    "    return results\n",
    "\n",
    "def print_analysis(results):\n",
    "    \"\"\"\n",
    "    Print formatted analysis results.\n",
    "    \n",
    "    Parameters:\n",
    "    -----------\n",
    "    results : dict\n",
    "        Results dictionary from analyze_binary_choices\n",
    "    \"\"\"\n",
    "    print(\"\\nPOOLED ANALYSIS\")\n",
    "    print(\"===============\")\n",
    "    p = results['pooled_analysis']\n",
    "    print(f\"Total Generated selections: {p['total_generated']} out of {p['total_trials']}\")\n",
    "    print(f\"Pooled proportion: {p['pooled_proportion']:.1%}\")\n",
    "    print(f\"P-value: {p['p_value']}\")\n",
    "    print(f\"Statistically significant: {p['significant']}\")\n",
    "    print(f\"95% CI: ({p['confidence_interval'][0]:.1%} to {p['confidence_interval'][1]:.1%})\")\n",
    "    \n",
    "    print(\"\\nHETEROGENEITY TEST\")\n",
    "    print(\"==================\")\n",
    "    h = results['heterogeneity_test']\n",
    "    print(f\"Chi-square statistic: {h['chi2_statistic']:.3f} (df={h['df']})\")\n",
    "    print(f\"P-value: {h['p_value']:.6f}\")\n",
    "    print(f\"Questions significantly different: {h['significant']}\")\n",
    "    \n",
    "    print(\"\\nINDIVIDUAL QUESTIONS\")\n",
    "    print(\"===================\")\n",
    "    for test in results['individual_tests']:\n",
    "        print(f\"\\nQuestion {test['question']}:\")\n",
    "        print(f\"Generated selections: {test['total_generated']}\")\n",
    "        print(f\"Proportion: {test['proportion']:.1%}\")\n",
    "        print(f\"P-value (corrected): {test['p_value_corrected']:.6f}\")\n",
    "        print(f\"Significant: {test['significant_corrected']}\")"
   ]
  },
  {
   "cell_type": "code",
   "execution_count": 56,
   "metadata": {},
   "outputs": [],
   "source": [
    "df[\"count_generated\"] = df.preference.apply(lambda x: sum([1 for y in x if y == \"Generated\"]))"
   ]
  },
  {
   "cell_type": "code",
   "execution_count": 57,
   "metadata": {},
   "outputs": [],
   "source": [
    "prefs = df.preference\n",
    "\n",
    "question_gen_counts = []\n",
    "for i in range(len(prefs[0])):\n",
    "    question_gen_counts.append(sum([1 for x in prefs if x[i] == \"Generated\"]))"
   ]
  },
  {
   "cell_type": "code",
   "execution_count": 58,
   "metadata": {},
   "outputs": [],
   "source": [
    "res = analyze_binary_choices(question_gen_counts, len(prefs))"
   ]
  },
  {
   "cell_type": "code",
   "execution_count": 59,
   "metadata": {},
   "outputs": [
    {
     "name": "stdout",
     "output_type": "stream",
     "text": [
      "\n",
      "POOLED ANALYSIS\n",
      "===============\n",
      "Total Generated selections: 311 out of 500\n",
      "Pooled proportion: 62.2%\n",
      "P-value: 5.407956956026173e-08\n",
      "Statistically significant: True\n",
      "95% CI: (55.8% to 75.2%)\n",
      "\n",
      "HETEROGENEITY TEST\n",
      "==================\n",
      "Chi-square statistic: 8.455 (df=4)\n",
      "P-value: 0.076251\n",
      "Questions significantly different: False\n",
      "\n",
      "INDIVIDUAL QUESTIONS\n",
      "===================\n",
      "\n",
      "Question 1:\n",
      "Generated selections: 51\n",
      "Proportion: 51.0%\n",
      "P-value (corrected): 4.602054\n",
      "Significant: False\n",
      "\n",
      "Question 2:\n",
      "Generated selections: 60\n",
      "Proportion: 60.0%\n",
      "P-value (corrected): 0.284440\n",
      "Significant: False\n",
      "\n",
      "Question 3:\n",
      "Generated selections: 69\n",
      "Proportion: 69.0%\n",
      "P-value (corrected): 0.000916\n",
      "Significant: True\n",
      "\n",
      "Question 4:\n",
      "Generated selections: 65\n",
      "Proportion: 65.0%\n",
      "P-value (corrected): 0.017588\n",
      "Significant: True\n",
      "\n",
      "Question 5:\n",
      "Generated selections: 66\n",
      "Proportion: 66.0%\n",
      "P-value (corrected): 0.008950\n",
      "Significant: True\n"
     ]
    }
   ],
   "source": [
    "print_analysis(res)"
   ]
  },
  {
   "cell_type": "code",
   "execution_count": 42,
   "metadata": {},
   "outputs": [
    {
     "data": {
      "text/plain": [
       "{'total_generated': np.int64(311),\n",
       " 'total_trials': 500,\n",
       " 'pooled_proportion': np.float64(0.622),\n",
       " 'statistic': 0.622,\n",
       " 'p_value': np.float64(5.407956956026173e-08),\n",
       " 'significant': np.True_,\n",
       " 'confidence_interval': (0.5584667322490411, 0.7517764984555914)}"
      ]
     },
     "execution_count": 42,
     "metadata": {},
     "output_type": "execute_result"
    }
   ],
   "source": [
    "res[\"pooled_analysis\"]"
   ]
  },
  {
   "cell_type": "code",
   "execution_count": 48,
   "metadata": {},
   "outputs": [
    {
     "data": {
      "text/plain": [
       "0.5584667322490411"
      ]
     },
     "execution_count": 48,
     "metadata": {},
     "output_type": "execute_result"
    }
   ],
   "source": [
    "ci_lower"
   ]
  },
  {
   "cell_type": "code",
   "execution_count": 49,
   "metadata": {},
   "outputs": [
    {
     "data": {
      "image/png": "[encoded data removed]",
      "text/plain": [
       "<Figure size 800x600 with 1 Axes>"
      ]
     },
     "metadata": {},
     "output_type": "display_data"
    }
   ],
   "source": [
    "# Extract data from the pooled analysis\n",
    "pooled_proportion = res['pooled_analysis']['statistic']\n",
    "ci_lower, ci_upper = res['pooled_analysis']['confidence_interval']\n",
    "\n",
    "# Create a seaborn plot\n",
    "plt.figure(figsize=(8, 6))\n",
    "sns.pointplot(x=[0], y=[pooled_proportion], capsize=0.2, color='blue')\n",
    "plt.errorbar(x=[0], y=[pooled_proportion], yerr=[[pooled_proportion - ci_lower], [ci_upper - pooled_proportion]], fmt='o', color='blue')\n",
    "\n",
    "# Add a horizontal line at 0.5\n",
    "plt.axhline(y=0.5, color='red', linestyle='--')\n",
    "\n",
    "# Customize the plot\n",
    "plt.title('Pooled Proportion LLM preference (n=500) with 95% Confidence Interval')\n",
    "plt.ylabel('Proportion')\n",
    "plt.xticks([])  # Remove x-axis ticks\n",
    "plt.ylim(0, 1)  # Set y-axis limits\n",
    "\n",
    "# Show the plot\n",
    "plt.show()"
   ]
  },
  {
   "cell_type": "code",
   "execution_count": 45,
   "metadata": {},
   "outputs": [
    {
     "data": {
      "text/plain": [
       "[{'question': 1,\n",
       "  'total_generated': np.int64(51),\n",
       "  'proportion': np.float64(0.51),\n",
       "  'statistic': 0.51,\n",
       "  'p_value_corrected': np.float64(4.602053813064105),\n",
       "  'significant_corrected': np.False_,\n",
       "  'ci_lower': 0.4080363291551743,\n",
       "  'ci_upper': 0.6113558348383622},\n",
       " {'question': 2,\n",
       "  'total_generated': np.int64(60),\n",
       "  'proportion': np.float64(0.6),\n",
       "  'statistic': 0.6,\n",
       "  'p_value_corrected': np.float64(0.2844396682049039),\n",
       "  'significant_corrected': np.False_,\n",
       "  'ci_lower': 0.49720915042233343,\n",
       "  'ci_upper': 0.696705231297155},\n",
       " {'question': 3,\n",
       "  'total_generated': np.int64(69),\n",
       "  'proportion': np.float64(0.69),\n",
       "  'statistic': 0.69,\n",
       "  'p_value_corrected': np.float64(0.0009157161244117682),\n",
       "  'significant_corrected': np.True_,\n",
       "  'ci_lower': 0.5896854458397687,\n",
       "  'ci_upper': 0.7787112078693281},\n",
       " {'question': 4,\n",
       "  'total_generated': np.int64(65),\n",
       "  'proportion': np.float64(0.65),\n",
       "  'statistic': 0.65,\n",
       "  'p_value_corrected': np.float64(0.017588208614850793),\n",
       "  'significant_corrected': np.True_,\n",
       "  'ci_lower': 0.5481506381760014,\n",
       "  'ci_upper': 0.7427062214688087},\n",
       " {'question': 5,\n",
       "  'total_generated': np.int64(66),\n",
       "  'proportion': np.float64(0.66),\n",
       "  'statistic': 0.66,\n",
       "  'p_value_corrected': np.float64(0.008949651957434263),\n",
       "  'significant_corrected': np.True_,\n",
       "  'ci_lower': 0.5584667322490411,\n",
       "  'ci_upper': 0.7517764984555914}]"
      ]
     },
     "execution_count": 45,
     "metadata": {},
     "output_type": "execute_result"
    }
   ],
   "source": [
    "res[\"individual_tests\"]"
   ]
  },
  {
   "cell_type": "code",
   "execution_count": 54,
   "metadata": {},
   "outputs": [
    {
     "data": {
      "image/png": "[encoded data removed]",
      "text/plain": [
       "<Figure size 1000x600 with 1 Axes>"
      ]
     },
     "metadata": {},
     "output_type": "display_data"
    }
   ],
   "source": [
    "# Extract data for individual questions\n",
    "individual_tests = res['individual_tests']\n",
    "question_numbers = [test['question'] for test in individual_tests]\n",
    "proportions = [test['proportion'] for test in individual_tests]\n",
    "ci_lowers = [test['ci_lower'] for test in individual_tests]\n",
    "ci_uppers = [test['ci_upper'] for test in individual_tests]\n",
    "\n",
    "# Create a seaborn plot for individual questions\n",
    "plt.figure(figsize=(10, 6))\n",
    "yerr_lower = [p - l for p, l in zip(proportions, ci_lowers)]\n",
    "yerr_upper = [u - p for p, u in zip(proportions, ci_uppers)]\n",
    "plt.errorbar(x=question_numbers, y=proportions, yerr=[yerr_lower, yerr_upper], fmt='o', color='blue')\n",
    "\n",
    "# Add a horizontal line at 0.5\n",
    "plt.axhline(y=0.5, color='red', linestyle='--')\n",
    "\n",
    "# Customize the plot\n",
    "plt.title('Proportion of LLM Preference for Individual Newsletters (n=100) with 95% Confidence Interval')\n",
    "plt.xlabel('Question Number')\n",
    "plt.ylabel('Proportion')\n",
    "plt.ylim(0, 1)  # Set y-axis limits\n",
    "plt.xticks(ticks=question_numbers)  # Set x-axis to discrete values\n",
    "\n",
    "# Show the plot\n",
    "plt.show()"
   ]
  },
  {
   "cell_type": "code",
   "execution_count": null,
   "metadata": {},
   "outputs": [],
   "source": []
  }
 ],
 "metadata": {
  "kernelspec": {
   "display_name": "personalization",
   "language": "python",
   "name": "python3"
  },
  "language_info": {
   "codemirror_mode": {
    "name": "ipython",
    "version": 3
   },
   "file_extension": ".py",
   "mimetype": "text/x-python",
   "name": "python",
   "nbconvert_exporter": "python",
   "pygments_lexer": "ipython3",
   "version": "3.12.4"
  }
 },
 "nbformat": 4,
 "nbformat_minor": 2
}
