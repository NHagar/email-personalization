{
 "cells": [
  {
   "cell_type": "code",
   "execution_count": 107,
   "metadata": {},
   "outputs": [],
   "source": [
    "import ast\n",
    "\n",
    "import numpy as np\n",
    "from scipy import stats\n",
    "import pandas as pd\n",
    "import matplotlib.pyplot as plt\n",
    "import seaborn as sns\n",
    "import statsmodels.api as sm\n",
    "from statsmodels.stats.outliers_influence import variance_inflation_factor"
   ]
  },
  {
   "cell_type": "markdown",
   "metadata": {},
   "source": [
    "# Data cleaning"
   ]
  },
  {
   "cell_type": "code",
   "execution_count": 61,
   "metadata": {},
   "outputs": [],
   "source": [
    "df = pd.read_csv(\"../data/responses_full.csv\")"
   ]
  },
  {
   "cell_type": "code",
   "execution_count": 62,
   "metadata": {},
   "outputs": [],
   "source": [
    "df['history'] = df['history'].apply(ast.literal_eval)\n",
    "df['choices'] = df['choices'].apply(ast.literal_eval)"
   ]
  },
  {
   "cell_type": "code",
   "execution_count": 63,
   "metadata": {},
   "outputs": [],
   "source": [
    "df = df.drop_duplicates(subset=[\"user_id\"])"
   ]
  },
  {
   "cell_type": "code",
   "execution_count": 64,
   "metadata": {},
   "outputs": [],
   "source": [
    "df[\"selection_count\"] = df[\"history\"].apply(len)"
   ]
  },
  {
   "cell_type": "code",
   "execution_count": 65,
   "metadata": {},
   "outputs": [],
   "source": [
    "def process_choices(choices):\n",
    "    chosen_headlines = []\n",
    "    for _, v in choices.items():\n",
    "        selected = v[\"selected\"]\n",
    "        options = v[\"options\"]\n",
    "        for hed, source in options.items():\n",
    "            if hed == selected:\n",
    "                chosen_headlines.append(source)\n",
    "    \n",
    "    return chosen_headlines"
   ]
  },
  {
   "cell_type": "code",
   "execution_count": 66,
   "metadata": {},
   "outputs": [],
   "source": [
    "df[\"preference\"] = df[\"choices\"].apply(process_choices)"
   ]
  },
  {
   "cell_type": "code",
   "execution_count": 67,
   "metadata": {},
   "outputs": [],
   "source": [
    "df[\"proportion_generated\"] = df.preference.apply(lambda x: sum([1 for y in x if y == \"Generated\"]) / len(x))"
   ]
  },
  {
   "cell_type": "markdown",
   "metadata": {},
   "source": [
    "# Statistical tests"
   ]
  },
  {
   "cell_type": "code",
   "execution_count": 55,
   "metadata": {},
   "outputs": [],
   "source": [
    "def analyze_binary_choices(ai_selection_count, n_responses, alpha=0.05):\n",
    "    \"\"\"\n",
    "    Analyze binary choice data.\n",
    "    \n",
    "    Parameters:\n",
    "    -----------\n",
    "    ai_selection_count : list or array\n",
    "        Number of times the AI-generated headline was chosen for each question\n",
    "    n_responses : int\n",
    "        Total number of responses per question\n",
    "    alpha : float, optional\n",
    "        Significance level for statistical tests (default: 0.05)\n",
    "        \n",
    "    Returns:\n",
    "    --------\n",
    "    dict\n",
    "        Dictionary containing analysis results\n",
    "    \"\"\"\n",
    "    # Convert inputs to numpy arrays\n",
    "    option_a_counts = np.array(ai_selection_count)\n",
    "    n_questions = len(option_a_counts)\n",
    "    total_trials = n_responses * n_questions\n",
    "    \n",
    "    # Pooled binomial test\n",
    "    total_option_a = np.sum(option_a_counts)\n",
    "    pooled_result = stats.binomtest(total_option_a, total_trials, p=0.5)\n",
    "    \n",
    "    # Calculate confidence interval for pooled proportion\n",
    "    ci = pooled_result.proportion_ci()\n",
    "    ci_lower, ci_upper = ci.low, ci.high\n",
    "\n",
    "    # Chi-square test for homogeneity\n",
    "    pooled_prop = total_option_a / total_trials\n",
    "    expected = pooled_prop * n_responses\n",
    "    chi2_stat = np.sum((option_a_counts - expected)**2 / expected + \n",
    "                      (n_responses - option_a_counts - (n_responses - expected))**2 / (n_responses - expected))\n",
    "    chi2_p = stats.chi2.sf(chi2_stat, df=n_questions-1)\n",
    "    \n",
    "    # Individual binomial tests for each question\n",
    "    individual_tests = []\n",
    "    for i, count in enumerate(option_a_counts):\n",
    "        result = stats.binomtest(count, n_responses, p=0.5)\n",
    "        ci = result.proportion_ci()\n",
    "        ci_lower, ci_upper = ci.low, ci.high\n",
    "        individual_tests.append({\n",
    "            'question': i + 1,\n",
    "            'total_generated': count,\n",
    "            'proportion': count / n_responses,\n",
    "            'statistic': result.statistic,\n",
    "            'p_value_corrected': result.pvalue * n_questions,\n",
    "            'significant_corrected': result.pvalue * n_questions < alpha,\n",
    "            'ci_lower': ci_lower,\n",
    "            'ci_upper': ci_upper\n",
    "        })\n",
    "    \n",
    "    # Compile results\n",
    "    results = {\n",
    "        'pooled_analysis': {\n",
    "            'total_generated': total_option_a,\n",
    "            'total_trials': total_trials,\n",
    "            'pooled_proportion': pooled_prop,\n",
    "            'statistic': pooled_result.statistic,\n",
    "            'p_value': pooled_result.pvalue,\n",
    "            'significant': pooled_result.pvalue < alpha,\n",
    "            'confidence_interval': (ci_lower, ci_upper)\n",
    "        },\n",
    "        'heterogeneity_test': {\n",
    "            'chi2_statistic': chi2_stat,\n",
    "            'p_value': chi2_p,\n",
    "            'df': n_questions - 1,\n",
    "            'significant': chi2_p < alpha\n",
    "        },\n",
    "        'individual_tests': individual_tests\n",
    "    }\n",
    "    \n",
    "    return results\n",
    "\n",
    "def print_analysis(results):\n",
    "    \"\"\"\n",
    "    Print formatted analysis results.\n",
    "    \n",
    "    Parameters:\n",
    "    -----------\n",
    "    results : dict\n",
    "        Results dictionary from analyze_binary_choices\n",
    "    \"\"\"\n",
    "    print(\"\\nPOOLED ANALYSIS\")\n",
    "    print(\"===============\")\n",
    "    p = results['pooled_analysis']\n",
    "    print(f\"Total Generated selections: {p['total_generated']} out of {p['total_trials']}\")\n",
    "    print(f\"Pooled proportion: {p['pooled_proportion']:.1%}\")\n",
    "    print(f\"P-value: {p['p_value']}\")\n",
    "    print(f\"Statistically significant: {p['significant']}\")\n",
    "    print(f\"95% CI: ({p['confidence_interval'][0]:.1%} to {p['confidence_interval'][1]:.1%})\")\n",
    "    \n",
    "    print(\"\\nHETEROGENEITY TEST\")\n",
    "    print(\"==================\")\n",
    "    h = results['heterogeneity_test']\n",
    "    print(f\"Chi-square statistic: {h['chi2_statistic']:.3f} (df={h['df']})\")\n",
    "    print(f\"P-value: {h['p_value']:.6f}\")\n",
    "    print(f\"Questions significantly different: {h['significant']}\")\n",
    "    \n",
    "    print(\"\\nINDIVIDUAL QUESTIONS\")\n",
    "    print(\"===================\")\n",
    "    for test in results['individual_tests']:\n",
    "        print(f\"\\nQuestion {test['question']}:\")\n",
    "        print(f\"Generated selections: {test['total_generated']}\")\n",
    "        print(f\"Proportion: {test['proportion']:.1%}\")\n",
    "        print(f\"P-value (corrected): {test['p_value_corrected']:.6f}\")\n",
    "        print(f\"Significant: {test['significant_corrected']}\")"
   ]
  },
  {
   "cell_type": "code",
   "execution_count": 56,
   "metadata": {},
   "outputs": [],
   "source": [
    "df[\"count_generated\"] = df.preference.apply(lambda x: sum([1 for y in x if y == \"Generated\"]))"
   ]
  },
  {
   "cell_type": "code",
   "execution_count": 57,
   "metadata": {},
   "outputs": [],
   "source": [
    "prefs = df.preference\n",
    "\n",
    "question_gen_counts = []\n",
    "for i in range(len(prefs[0])):\n",
    "    question_gen_counts.append(sum([1 for x in prefs if x[i] == \"Generated\"]))"
   ]
  },
  {
   "cell_type": "code",
   "execution_count": 58,
   "metadata": {},
   "outputs": [],
   "source": [
    "res = analyze_binary_choices(question_gen_counts, len(prefs))"
   ]
  },
  {
   "cell_type": "code",
   "execution_count": 59,
   "metadata": {},
   "outputs": [
    {
     "name": "stdout",
     "output_type": "stream",
     "text": [
      "\n",
      "POOLED ANALYSIS\n",
      "===============\n",
      "Total Generated selections: 311 out of 500\n",
      "Pooled proportion: 62.2%\n",
      "P-value: 5.407956956026173e-08\n",
      "Statistically significant: True\n",
      "95% CI: (55.8% to 75.2%)\n",
      "\n",
      "HETEROGENEITY TEST\n",
      "==================\n",
      "Chi-square statistic: 8.455 (df=4)\n",
      "P-value: 0.076251\n",
      "Questions significantly different: False\n",
      "\n",
      "INDIVIDUAL QUESTIONS\n",
      "===================\n",
      "\n",
      "Question 1:\n",
      "Generated selections: 51\n",
      "Proportion: 51.0%\n",
      "P-value (corrected): 4.602054\n",
      "Significant: False\n",
      "\n",
      "Question 2:\n",
      "Generated selections: 60\n",
      "Proportion: 60.0%\n",
      "P-value (corrected): 0.284440\n",
      "Significant: False\n",
      "\n",
      "Question 3:\n",
      "Generated selections: 69\n",
      "Proportion: 69.0%\n",
      "P-value (corrected): 0.000916\n",
      "Significant: True\n",
      "\n",
      "Question 4:\n",
      "Generated selections: 65\n",
      "Proportion: 65.0%\n",
      "P-value (corrected): 0.017588\n",
      "Significant: True\n",
      "\n",
      "Question 5:\n",
      "Generated selections: 66\n",
      "Proportion: 66.0%\n",
      "P-value (corrected): 0.008950\n",
      "Significant: True\n"
     ]
    }
   ],
   "source": [
    "print_analysis(res)"
   ]
  },
  {
   "cell_type": "code",
   "execution_count": 49,
   "metadata": {},
   "outputs": [
    {
     "data": {
      "image/png": "[encoded data removed]",
      "text/plain": [
       "<Figure size 800x600 with 1 Axes>"
      ]
     },
     "metadata": {},
     "output_type": "display_data"
    }
   ],
   "source": [
    "# Extract data from the pooled analysis\n",
    "pooled_proportion = res['pooled_analysis']['statistic']\n",
    "ci_lower, ci_upper = res['pooled_analysis']['confidence_interval']\n",
    "\n",
    "# Create a seaborn plot\n",
    "plt.figure(figsize=(8, 6))\n",
    "sns.pointplot(x=[0], y=[pooled_proportion], capsize=0.2, color='blue')\n",
    "plt.errorbar(x=[0], y=[pooled_proportion], yerr=[[pooled_proportion - ci_lower], [ci_upper - pooled_proportion]], fmt='o', color='blue')\n",
    "\n",
    "# Add a horizontal line at 0.5\n",
    "plt.axhline(y=0.5, color='red', linestyle='--')\n",
    "\n",
    "# Customize the plot\n",
    "plt.title('Pooled Proportion LLM preference (n=500) with 95% Confidence Interval')\n",
    "plt.ylabel('Proportion')\n",
    "plt.xticks([])  # Remove x-axis ticks\n",
    "plt.ylim(0, 1)  # Set y-axis limits\n",
    "\n",
    "# Show the plot\n",
    "plt.show()"
   ]
  },
  {
   "cell_type": "code",
   "execution_count": 54,
   "metadata": {},
   "outputs": [
    {
     "data": {
      "image/png": "[encoded data removed]",
      "text/plain": [
       "<Figure size 1000x600 with 1 Axes>"
      ]
     },
     "metadata": {},
     "output_type": "display_data"
    }
   ],
   "source": [
    "# Extract data for individual questions\n",
    "individual_tests = res['individual_tests']\n",
    "question_numbers = [test['question'] for test in individual_tests]\n",
    "proportions = [test['proportion'] for test in individual_tests]\n",
    "ci_lowers = [test['ci_lower'] for test in individual_tests]\n",
    "ci_uppers = [test['ci_upper'] for test in individual_tests]\n",
    "\n",
    "# Create a seaborn plot for individual questions\n",
    "plt.figure(figsize=(10, 6))\n",
    "yerr_lower = [p - l for p, l in zip(proportions, ci_lowers)]\n",
    "yerr_upper = [u - p for p, u in zip(proportions, ci_uppers)]\n",
    "plt.errorbar(x=question_numbers, y=proportions, yerr=[yerr_lower, yerr_upper], fmt='o', color='blue')\n",
    "\n",
    "# Add a horizontal line at 0.5\n",
    "plt.axhline(y=0.5, color='red', linestyle='--')\n",
    "\n",
    "# Customize the plot\n",
    "plt.title('Proportion of LLM Preference for Individual Newsletters (n=100) with 95% Confidence Interval')\n",
    "plt.xlabel('Question Number')\n",
    "plt.ylabel('Proportion')\n",
    "plt.ylim(0, 1)  # Set y-axis limits\n",
    "plt.xticks(ticks=question_numbers)  # Set x-axis to discrete values\n",
    "\n",
    "# Show the plot\n",
    "plt.show()"
   ]
  },
  {
   "cell_type": "markdown",
   "metadata": {},
   "source": [
    "# Robustness/followups"
   ]
  },
  {
   "cell_type": "markdown",
   "metadata": {},
   "source": [
    "## Preference variation - what does the distribution across respondents look like?"
   ]
  },
  {
   "cell_type": "code",
   "execution_count": 70,
   "metadata": {},
   "outputs": [
    {
     "data": {
      "text/plain": [
       "count    100.000000\n",
       "mean       0.622000\n",
       "std        0.218156\n",
       "min        0.200000\n",
       "25%        0.400000\n",
       "50%        0.600000\n",
       "75%        0.800000\n",
       "max        1.000000\n",
       "Name: proportion_generated, dtype: float64"
      ]
     },
     "execution_count": 70,
     "metadata": {},
     "output_type": "execute_result"
    }
   ],
   "source": [
    "df.proportion_generated.describe()"
   ]
  },
  {
   "cell_type": "code",
   "execution_count": 75,
   "metadata": {},
   "outputs": [],
   "source": [
    "counts = df.groupby(\"proportion_generated\").count()\n",
    "counts = counts.user_id.reset_index()"
   ]
  },
  {
   "cell_type": "code",
   "execution_count": 77,
   "metadata": {},
   "outputs": [
    {
     "data": {
      "text/plain": [
       "np.float64(0.71)"
      ]
     },
     "execution_count": 77,
     "metadata": {},
     "output_type": "execute_result"
    }
   ],
   "source": [
    "counts[counts.proportion_generated > 0.5].user_id.sum() / counts.user_id.sum()"
   ]
  },
  {
   "cell_type": "markdown",
   "metadata": {},
   "source": [
    "## Reading history - is there a relationship between the number of stories a participant selected and their preference?"
   ]
  },
  {
   "cell_type": "code",
   "execution_count": 80,
   "metadata": {},
   "outputs": [
    {
     "data": {
      "text/html": [
       "<div>\n",
       "<style scoped>\n",
       "    .dataframe tbody tr th:only-of-type {\n",
       "        vertical-align: middle;\n",
       "    }\n",
       "\n",
       "    .dataframe tbody tr th {\n",
       "        vertical-align: top;\n",
       "    }\n",
       "\n",
       "    .dataframe thead th {\n",
       "        text-align: right;\n",
       "    }\n",
       "</style>\n",
       "<table border=\"1\" class=\"dataframe\">\n",
       "  <thead>\n",
       "    <tr style=\"text-align: right;\">\n",
       "      <th></th>\n",
       "      <th>selection_count</th>\n",
       "      <th>proportion_generated</th>\n",
       "    </tr>\n",
       "  </thead>\n",
       "  <tbody>\n",
       "    <tr>\n",
       "      <th>selection_count</th>\n",
       "      <td>1.000000</td>\n",
       "      <td>-0.040986</td>\n",
       "    </tr>\n",
       "    <tr>\n",
       "      <th>proportion_generated</th>\n",
       "      <td>-0.040986</td>\n",
       "      <td>1.000000</td>\n",
       "    </tr>\n",
       "  </tbody>\n",
       "</table>\n",
       "</div>"
      ],
      "text/plain": [
       "                      selection_count  proportion_generated\n",
       "selection_count              1.000000             -0.040986\n",
       "proportion_generated        -0.040986              1.000000"
      ]
     },
     "execution_count": 80,
     "metadata": {},
     "output_type": "execute_result"
    }
   ],
   "source": [
    "df[[\"selection_count\", \"proportion_generated\"]].corr(method=\"spearman\")"
   ]
  },
  {
   "cell_type": "markdown",
   "metadata": {},
   "source": [
    "## Demographics"
   ]
  },
  {
   "cell_type": "code",
   "execution_count": 92,
   "metadata": {},
   "outputs": [],
   "source": [
    "def process_demographics(path):\n",
    "    df = pd.read_csv(path)\n",
    "    df = df[df[\"Status\"] == \"APPROVED\"]\n",
    "    df = df[[\"Participant id\", \"Time taken\", \"Age\", \"Sex\", \"Ethnicity simplified\", \"Student status\", \"Employment status\"]]\n",
    "    df = df.rename(columns={\"Participant id\": \"user_id\"})\n",
    "    df[\"Age\"] = df[\"Age\"].astype(int)\n",
    "    df = df.drop_duplicates(subset=[\"user_id\"])\n",
    "    return df"
   ]
  },
  {
   "cell_type": "code",
   "execution_count": 93,
   "metadata": {},
   "outputs": [],
   "source": [
    "demo_gated = process_demographics(\"../data/demographics_gated.csv\")\n",
    "demo_ungated = process_demographics(\"../data/demographics_ungated.csv\")\n",
    "demo = pd.concat([demo_gated, demo_ungated])"
   ]
  },
  {
   "cell_type": "markdown",
   "metadata": {},
   "source": [
    "### Descriptives"
   ]
  },
  {
   "cell_type": "code",
   "execution_count": 94,
   "metadata": {},
   "outputs": [
    {
     "data": {
      "text/plain": [
       "<Axes: xlabel='Age', ylabel='Density'>"
      ]
     },
     "execution_count": 94,
     "metadata": {},
     "output_type": "execute_result"
    },
    {
     "data": {
      "image/png": "[encoded data removed]",
      "text/plain": [
       "<Figure size 640x480 with 1 Axes>"
      ]
     },
     "metadata": {},
     "output_type": "display_data"
    }
   ],
   "source": [
    "sns.kdeplot(demo[\"Age\"])"
   ]
  },
  {
   "cell_type": "code",
   "execution_count": 95,
   "metadata": {},
   "outputs": [
    {
     "data": {
      "text/plain": [
       "count    100.000000\n",
       "mean      37.880000\n",
       "std       12.607742\n",
       "min       18.000000\n",
       "25%       28.750000\n",
       "50%       36.500000\n",
       "75%       46.000000\n",
       "max       72.000000\n",
       "Name: Age, dtype: float64"
      ]
     },
     "execution_count": 95,
     "metadata": {},
     "output_type": "execute_result"
    }
   ],
   "source": [
    "demo[\"Age\"].describe()"
   ]
  },
  {
   "cell_type": "code",
   "execution_count": 97,
   "metadata": {},
   "outputs": [
    {
     "data": {
      "text/plain": [
       "Sex\n",
       "Female    53\n",
       "Male      47\n",
       "Name: count, dtype: int64"
      ]
     },
     "execution_count": 97,
     "metadata": {},
     "output_type": "execute_result"
    }
   ],
   "source": [
    "demo[\"Sex\"].value_counts()"
   ]
  },
  {
   "cell_type": "code",
   "execution_count": 99,
   "metadata": {},
   "outputs": [
    {
     "data": {
      "text/plain": [
       "Ethnicity simplified\n",
       "White           60\n",
       "Black           19\n",
       "Asian            9\n",
       "Mixed            7\n",
       "Other            3\n",
       "DATA_EXPIRED     2\n",
       "Name: count, dtype: int64"
      ]
     },
     "execution_count": 99,
     "metadata": {},
     "output_type": "execute_result"
    }
   ],
   "source": [
    "demo[\"Ethnicity simplified\"].value_counts()"
   ]
  },
  {
   "cell_type": "code",
   "execution_count": 101,
   "metadata": {},
   "outputs": [
    {
     "data": {
      "text/plain": [
       "Student status\n",
       "No              66\n",
       "Yes             23\n",
       "DATA_EXPIRED    11\n",
       "Name: count, dtype: int64"
      ]
     },
     "execution_count": 101,
     "metadata": {},
     "output_type": "execute_result"
    }
   ],
   "source": [
    "demo[\"Student status\"].value_counts()"
   ]
  },
  {
   "cell_type": "code",
   "execution_count": 102,
   "metadata": {},
   "outputs": [
    {
     "data": {
      "text/plain": [
       "Employment status\n",
       "Full-Time                                                   54\n",
       "Part-Time                                                   13\n",
       "DATA_EXPIRED                                                12\n",
       "Not in paid work (e.g. homemaker', 'retired or disabled)     7\n",
       "Other                                                        6\n",
       "Unemployed (and job seeking)                                 6\n",
       "Due to start a new job within the next month                 2\n",
       "Name: count, dtype: int64"
      ]
     },
     "execution_count": 102,
     "metadata": {},
     "output_type": "execute_result"
    }
   ],
   "source": [
    "demo[\"Employment status\"].value_counts()"
   ]
  },
  {
   "cell_type": "markdown",
   "metadata": {},
   "source": [
    "### Regression analysis"
   ]
  },
  {
   "cell_type": "code",
   "execution_count": 155,
   "metadata": {},
   "outputs": [],
   "source": [
    "responses_with_demographics = df.join(demo.set_index(\"user_id\"), on=\"user_id\")"
   ]
  },
  {
   "cell_type": "code",
   "execution_count": 156,
   "metadata": {},
   "outputs": [],
   "source": [
    "responses_filtered = responses_with_demographics[~responses_with_demographics.isin([\"DATA_EXPIRED\"]).any(axis=1)]"
   ]
  },
  {
   "cell_type": "code",
   "execution_count": 157,
   "metadata": {},
   "outputs": [],
   "source": [
    "X = pd.get_dummies(responses_filtered[['Sex', 'Ethnicity simplified', 'Student status', 'Employment status']], drop_first=True)"
   ]
  },
  {
   "cell_type": "code",
   "execution_count": 158,
   "metadata": {},
   "outputs": [],
   "source": [
    "X[\"Age\"] = responses_filtered[\"Age\"]"
   ]
  },
  {
   "cell_type": "code",
   "execution_count": 159,
   "metadata": {},
   "outputs": [],
   "source": [
    "X = sm.add_constant(X)"
   ]
  },
  {
   "cell_type": "code",
   "execution_count": 160,
   "metadata": {},
   "outputs": [],
   "source": [
    "X = X.astype(float)"
   ]
  },
  {
   "cell_type": "code",
   "execution_count": 161,
   "metadata": {},
   "outputs": [
    {
     "data": {
      "text/html": [
       "<div>\n",
       "<style scoped>\n",
       "    .dataframe tbody tr th:only-of-type {\n",
       "        vertical-align: middle;\n",
       "    }\n",
       "\n",
       "    .dataframe tbody tr th {\n",
       "        vertical-align: top;\n",
       "    }\n",
       "\n",
       "    .dataframe thead th {\n",
       "        text-align: right;\n",
       "    }\n",
       "</style>\n",
       "<table border=\"1\" class=\"dataframe\">\n",
       "  <thead>\n",
       "    <tr style=\"text-align: right;\">\n",
       "      <th></th>\n",
       "      <th>feature</th>\n",
       "      <th>VIF</th>\n",
       "    </tr>\n",
       "  </thead>\n",
       "  <tbody>\n",
       "    <tr>\n",
       "      <th>0</th>\n",
       "      <td>const</td>\n",
       "      <td>61.274106</td>\n",
       "    </tr>\n",
       "    <tr>\n",
       "      <th>1</th>\n",
       "      <td>Sex_Male</td>\n",
       "      <td>1.197934</td>\n",
       "    </tr>\n",
       "    <tr>\n",
       "      <th>2</th>\n",
       "      <td>Ethnicity simplified_Black</td>\n",
       "      <td>2.744347</td>\n",
       "    </tr>\n",
       "    <tr>\n",
       "      <th>3</th>\n",
       "      <td>Ethnicity simplified_Mixed</td>\n",
       "      <td>1.902920</td>\n",
       "    </tr>\n",
       "    <tr>\n",
       "      <th>4</th>\n",
       "      <td>Ethnicity simplified_Other</td>\n",
       "      <td>1.318049</td>\n",
       "    </tr>\n",
       "    <tr>\n",
       "      <th>5</th>\n",
       "      <td>Ethnicity simplified_White</td>\n",
       "      <td>3.504400</td>\n",
       "    </tr>\n",
       "    <tr>\n",
       "      <th>6</th>\n",
       "      <td>Student status_Yes</td>\n",
       "      <td>1.219040</td>\n",
       "    </tr>\n",
       "    <tr>\n",
       "      <th>7</th>\n",
       "      <td>Employment status_Full-Time</td>\n",
       "      <td>11.698888</td>\n",
       "    </tr>\n",
       "    <tr>\n",
       "      <th>8</th>\n",
       "      <td>Employment status_Not in paid work (e.g. homem...</td>\n",
       "      <td>4.967039</td>\n",
       "    </tr>\n",
       "    <tr>\n",
       "      <th>9</th>\n",
       "      <td>Employment status_Other</td>\n",
       "      <td>4.168920</td>\n",
       "    </tr>\n",
       "    <tr>\n",
       "      <th>10</th>\n",
       "      <td>Employment status_Part-Time</td>\n",
       "      <td>7.291908</td>\n",
       "    </tr>\n",
       "    <tr>\n",
       "      <th>11</th>\n",
       "      <td>Employment status_Unemployed (and job seeking)</td>\n",
       "      <td>4.228594</td>\n",
       "    </tr>\n",
       "    <tr>\n",
       "      <th>12</th>\n",
       "      <td>Age</td>\n",
       "      <td>1.382628</td>\n",
       "    </tr>\n",
       "  </tbody>\n",
       "</table>\n",
       "</div>"
      ],
      "text/plain": [
       "                                              feature        VIF\n",
       "0                                               const  61.274106\n",
       "1                                            Sex_Male   1.197934\n",
       "2                          Ethnicity simplified_Black   2.744347\n",
       "3                          Ethnicity simplified_Mixed   1.902920\n",
       "4                          Ethnicity simplified_Other   1.318049\n",
       "5                          Ethnicity simplified_White   3.504400\n",
       "6                                  Student status_Yes   1.219040\n",
       "7                         Employment status_Full-Time  11.698888\n",
       "8   Employment status_Not in paid work (e.g. homem...   4.967039\n",
       "9                             Employment status_Other   4.168920\n",
       "10                        Employment status_Part-Time   7.291908\n",
       "11     Employment status_Unemployed (and job seeking)   4.228594\n",
       "12                                                Age   1.382628"
      ]
     },
     "execution_count": 161,
     "metadata": {},
     "output_type": "execute_result"
    }
   ],
   "source": [
    "vif_data = pd.DataFrame()\n",
    "vif_data[\"feature\"] = X.columns\n",
    "vif_data[\"VIF\"] = [variance_inflation_factor(X.dropna().values, i) for i in range(X.shape[1])]\n",
    "vif_data"
   ]
  },
  {
   "cell_type": "code",
   "execution_count": 167,
   "metadata": {},
   "outputs": [
    {
     "data": {
      "text/html": [
       "<div>\n",
       "<style scoped>\n",
       "    .dataframe tbody tr th:only-of-type {\n",
       "        vertical-align: middle;\n",
       "    }\n",
       "\n",
       "    .dataframe tbody tr th {\n",
       "        vertical-align: top;\n",
       "    }\n",
       "\n",
       "    .dataframe thead th {\n",
       "        text-align: right;\n",
       "    }\n",
       "</style>\n",
       "<table border=\"1\" class=\"dataframe\">\n",
       "  <thead>\n",
       "    <tr style=\"text-align: right;\">\n",
       "      <th></th>\n",
       "      <th>sex_male</th>\n",
       "      <th>ethnicity_black</th>\n",
       "      <th>ethnicity_mixed</th>\n",
       "      <th>ethnicity_other</th>\n",
       "      <th>ethnicity_white</th>\n",
       "      <th>student</th>\n",
       "      <th>age</th>\n",
       "    </tr>\n",
       "  </thead>\n",
       "  <tbody>\n",
       "    <tr>\n",
       "      <th>0</th>\n",
       "      <td>0.0</td>\n",
       "      <td>0.0</td>\n",
       "      <td>0.0</td>\n",
       "      <td>0.0</td>\n",
       "      <td>1.0</td>\n",
       "      <td>0.0</td>\n",
       "      <td>50.0</td>\n",
       "    </tr>\n",
       "    <tr>\n",
       "      <th>1</th>\n",
       "      <td>1.0</td>\n",
       "      <td>0.0</td>\n",
       "      <td>1.0</td>\n",
       "      <td>0.0</td>\n",
       "      <td>0.0</td>\n",
       "      <td>1.0</td>\n",
       "      <td>38.0</td>\n",
       "    </tr>\n",
       "    <tr>\n",
       "      <th>2</th>\n",
       "      <td>1.0</td>\n",
       "      <td>1.0</td>\n",
       "      <td>0.0</td>\n",
       "      <td>0.0</td>\n",
       "      <td>0.0</td>\n",
       "      <td>0.0</td>\n",
       "      <td>27.0</td>\n",
       "    </tr>\n",
       "    <tr>\n",
       "      <th>3</th>\n",
       "      <td>1.0</td>\n",
       "      <td>0.0</td>\n",
       "      <td>0.0</td>\n",
       "      <td>0.0</td>\n",
       "      <td>1.0</td>\n",
       "      <td>0.0</td>\n",
       "      <td>33.0</td>\n",
       "    </tr>\n",
       "    <tr>\n",
       "      <th>4</th>\n",
       "      <td>1.0</td>\n",
       "      <td>1.0</td>\n",
       "      <td>0.0</td>\n",
       "      <td>0.0</td>\n",
       "      <td>0.0</td>\n",
       "      <td>0.0</td>\n",
       "      <td>28.0</td>\n",
       "    </tr>\n",
       "  </tbody>\n",
       "</table>\n",
       "</div>"
      ],
      "text/plain": [
       "   sex_male  ethnicity_black  ethnicity_mixed  ethnicity_other  \\\n",
       "0       0.0              0.0              0.0              0.0   \n",
       "1       1.0              0.0              1.0              0.0   \n",
       "2       1.0              1.0              0.0              0.0   \n",
       "3       1.0              0.0              0.0              0.0   \n",
       "4       1.0              1.0              0.0              0.0   \n",
       "\n",
       "   ethnicity_white  student   age  \n",
       "0              1.0      0.0  50.0  \n",
       "1              0.0      1.0  38.0  \n",
       "2              0.0      0.0  27.0  \n",
       "3              1.0      0.0  33.0  \n",
       "4              0.0      0.0  28.0  "
      ]
     },
     "execution_count": 167,
     "metadata": {},
     "output_type": "execute_result"
    }
   ],
   "source": [
    "# Filter features where VIF is higher than 4\n",
    "high_vif_features = vif_data[vif_data[\"VIF\"] > 4][\"feature\"].tolist()\n",
    "\n",
    "# Drop these features from X\n",
    "X_filtered = X.drop(columns=high_vif_features)\n",
    "\n",
    "X_filtered = X_filtered.rename(\n",
    "    columns={\n",
    "        \"Sex_Male\": \"sex_male\",\n",
    "        \"Ethnicity simplified_Black\": \"ethnicity_black\",\n",
    "        \"Ethnicity simplified_Mixed\": \"ethnicity_mixed\",\n",
    "        \"Ethnicity simplified_Other\": \"ethnicity_other\",\n",
    "        \"Ethnicity simplified_White\": \"ethnicity_white\",\n",
    "        \"Student status_Yes\": \"student\",\n",
    "        \"Age\": \"age\"\n",
    "    }\n",
    ")\n",
    "\n",
    "X_filtered.head()"
   ]
  },
  {
   "cell_type": "code",
   "execution_count": 168,
   "metadata": {},
   "outputs": [],
   "source": [
    "y = responses_filtered[\"proportion_generated\"]"
   ]
  },
  {
   "cell_type": "code",
   "execution_count": 169,
   "metadata": {},
   "outputs": [
    {
     "name": "stdout",
     "output_type": "stream",
     "text": [
      "                 Generalized Linear Model Regression Results                  \n",
      "==============================================================================\n",
      "Dep. Variable:                      y   No. Observations:                   83\n",
      "Model:                            GLM   Df Residuals:                       75\n",
      "Model Family:                Binomial   Df Model:                            7\n",
      "Link Function:                  Logit   Scale:                          1.0000\n",
      "Method:                          IRLS   Log-Likelihood:                -39.658\n",
      "Date:                Fri, 06 Dec 2024   Deviance:                       17.881\n",
      "Time:                        14:05:14   Pearson chi2:                     15.6\n",
      "No. Iterations:                     4   Pseudo R-squ. (CS):           0.005998\n",
      "Covariance Type:            nonrobust                                         \n",
      "===================================================================================\n",
      "                      coef    std err          z      P>|z|      [0.025      0.975]\n",
      "-----------------------------------------------------------------------------------\n",
      "Intercept           0.3431      1.134      0.302      0.762      -1.880       2.567\n",
      "sex_male            0.0774      0.469      0.165      0.869      -0.842       0.996\n",
      "ethnicity_black    -0.0271      0.972     -0.028      0.978      -1.932       1.878\n",
      "ethnicity_mixed    -0.1672      1.170     -0.143      0.886      -2.461       2.127\n",
      "ethnicity_other     0.1223      1.738      0.070      0.944      -3.285       3.529\n",
      "ethnicity_white    -0.2933      0.863     -0.340      0.734      -1.984       1.397\n",
      "student            -0.0099      0.560     -0.018      0.986      -1.108       1.088\n",
      "age                 0.0078      0.019      0.410      0.682      -0.030       0.045\n",
      "===================================================================================\n"
     ]
    }
   ],
   "source": [
    "from statsmodels.formula.api import glm\n",
    "\n",
    "import statsmodels.api as sm\n",
    "import statsmodels.formula.api as smf\n",
    "\n",
    "# Add a small constant to y to avoid issues with 0 or 1 values\n",
    "y = y.clip(0.01, 0.99)\n",
    "\n",
    "# Combine X_filtered and y into a single DataFrame for the regression\n",
    "data = X_filtered.copy()\n",
    "data['y'] = y\n",
    "\n",
    "# Define the formula for the beta regression\n",
    "formula = 'y ~ ' + ' + '.join(X_filtered.columns)\n",
    "\n",
    "# Fit the beta regression model\n",
    "model = smf.glm(formula=formula, data=data, family=sm.families.Binomial()).fit()\n",
    "\n",
    "# Print the summary of the model\n",
    "print(model.summary())"
   ]
  },
  {
   "cell_type": "markdown",
   "metadata": {},
   "source": [
    "# Time spent - relationship to preference?"
   ]
  },
  {
   "cell_type": "code",
   "execution_count": 172,
   "metadata": {},
   "outputs": [
    {
     "data": {
      "text/html": [
       "<div>\n",
       "<style scoped>\n",
       "    .dataframe tbody tr th:only-of-type {\n",
       "        vertical-align: middle;\n",
       "    }\n",
       "\n",
       "    .dataframe tbody tr th {\n",
       "        vertical-align: top;\n",
       "    }\n",
       "\n",
       "    .dataframe thead th {\n",
       "        text-align: right;\n",
       "    }\n",
       "</style>\n",
       "<table border=\"1\" class=\"dataframe\">\n",
       "  <thead>\n",
       "    <tr style=\"text-align: right;\">\n",
       "      <th></th>\n",
       "      <th>selection_count</th>\n",
       "      <th>Time taken</th>\n",
       "      <th>proportion_generated</th>\n",
       "    </tr>\n",
       "  </thead>\n",
       "  <tbody>\n",
       "    <tr>\n",
       "      <th>selection_count</th>\n",
       "      <td>1.000000</td>\n",
       "      <td>0.109821</td>\n",
       "      <td>-0.040986</td>\n",
       "    </tr>\n",
       "    <tr>\n",
       "      <th>Time taken</th>\n",
       "      <td>0.109821</td>\n",
       "      <td>1.000000</td>\n",
       "      <td>-0.088191</td>\n",
       "    </tr>\n",
       "    <tr>\n",
       "      <th>proportion_generated</th>\n",
       "      <td>-0.040986</td>\n",
       "      <td>-0.088191</td>\n",
       "      <td>1.000000</td>\n",
       "    </tr>\n",
       "  </tbody>\n",
       "</table>\n",
       "</div>"
      ],
      "text/plain": [
       "                      selection_count  Time taken  proportion_generated\n",
       "selection_count              1.000000    0.109821             -0.040986\n",
       "Time taken                   0.109821    1.000000             -0.088191\n",
       "proportion_generated        -0.040986   -0.088191              1.000000"
      ]
     },
     "execution_count": 172,
     "metadata": {},
     "output_type": "execute_result"
    }
   ],
   "source": [
    "responses_with_demographics[[\"selection_count\", \"Time taken\", \"proportion_generated\"]].corr(method=\"spearman\")"
   ]
  },
  {
   "cell_type": "code",
   "execution_count": null,
   "metadata": {},
   "outputs": [],
   "source": []
  },
  {
   "cell_type": "code",
   "execution_count": null,
   "metadata": {},
   "outputs": [],
   "source": []
  },
  {
   "cell_type": "code",
   "execution_count": null,
   "metadata": {},
   "outputs": [],
   "source": []
  },
  {
   "cell_type": "code",
   "execution_count": null,
   "metadata": {},
   "outputs": [],
   "source": []
  }
 ],
 "metadata": {
  "kernelspec": {
   "display_name": "personalization",
   "language": "python",
   "name": "python3"
  },
  "language_info": {
   "codemirror_mode": {
    "name": "ipython",
    "version": 3
   },
   "file_extension": ".py",
   "mimetype": "text/x-python",
   "name": "python",
   "nbconvert_exporter": "python",
   "pygments_lexer": "ipython3",
   "version": "3.12.4"
  }
 },
 "nbformat": 4,
 "nbformat_minor": 2
}
