{
 "cells": [
  {
   "cell_type": "code",
   "execution_count": 1,
   "metadata": {},
   "outputs": [],
   "source": [
    "import numpy as np\n",
    "from scipy import stats"
   ]
  },
  {
   "cell_type": "code",
   "execution_count": 7,
   "metadata": {},
   "outputs": [],
   "source": [
    "def simulate_power_optimized(n, k, p_null=0.5, p_alt=0.58, alpha=0.05, n_sim=1000):\n",
    "    \"\"\"\n",
    "    Optimized simulation of power for given sample size and number of pairs.\n",
    "    \"\"\"\n",
    "    # Simulate all choices at once: n_sim simulations x n participants x k pairs\n",
    "    choices = np.random.binomial(1, p_alt, size=(n_sim, n, k))\n",
    "    \n",
    "    # Calculate the proportion of Option A choices per participant for each simulation\n",
    "    prop_A = choices.mean(axis=2)  # Shape: (n_sim, n)\n",
    "    \n",
    "    # Calculate the mean proportion for each simulation\n",
    "    mean_prop_A = prop_A.mean(axis=1)  # Shape: (n_sim,)\n",
    "    \n",
    "    # Calculate the standard error for each simulation\n",
    "    se_prop_A = prop_A.std(axis=1, ddof=1) / np.sqrt(n)\n",
    "    \n",
    "    # Calculate t-statistics for all simulations\n",
    "    t_stats = (mean_prop_A - p_null) / se_prop_A\n",
    "    \n",
    "    # Calculate two-tailed p-values\n",
    "    p_values = 2 * (1 - stats.t.cdf(np.abs(t_stats), df=n-1))\n",
    "    \n",
    "    # Calculate power as the proportion of p-values below alpha\n",
    "    power = np.mean(p_values < alpha)\n",
    "    return power"
   ]
  },
  {
   "cell_type": "code",
   "execution_count": 8,
   "metadata": {},
   "outputs": [
    {
     "data": {
      "text/plain": [
       "np.float64(0.998)"
      ]
     },
     "execution_count": 8,
     "metadata": {},
     "output_type": "execute_result"
    }
   ],
   "source": [
    "simulate_power_optimized(100, 10)"
   ]
  },
  {
   "cell_type": "markdown",
   "metadata": {},
   "source": [
    "# Survey design"
   ]
  },
  {
   "cell_type": "code",
   "execution_count": 55,
   "metadata": {},
   "outputs": [],
   "source": [
    "from pathlib import Path\n",
    "import random\n",
    "\n",
    "import duckdb"
   ]
  },
  {
   "cell_type": "code",
   "execution_count": 23,
   "metadata": {},
   "outputs": [],
   "source": [
    "con = duckdb.connect()"
   ]
  },
  {
   "cell_type": "code",
   "execution_count": 25,
   "metadata": {},
   "outputs": [],
   "source": [
    "df = con.execute(\"SELECT * FROM 'data/nyt_archive_all.parquet' \").fetchdf()"
   ]
  },
  {
   "cell_type": "code",
   "execution_count": 30,
   "metadata": {},
   "outputs": [],
   "source": [
    "top_desks = df.news_desk.value_counts().head(20)"
   ]
  },
  {
   "cell_type": "code",
   "execution_count": 31,
   "metadata": {},
   "outputs": [
    {
     "data": {
      "text/plain": [
       "np.float64(0.887894403760962)"
      ]
     },
     "execution_count": 31,
     "metadata": {},
     "output_type": "execute_result"
    }
   ],
   "source": [
    "top_desks.sum() / df.shape[0]"
   ]
  },
  {
   "cell_type": "code",
   "execution_count": 35,
   "metadata": {},
   "outputs": [],
   "source": [
    "in_desks = df[df.news_desk.isin(top_desks.index)]"
   ]
  },
  {
   "cell_type": "code",
   "execution_count": 44,
   "metadata": {},
   "outputs": [
    {
     "name": "stderr",
     "output_type": "stream",
     "text": [
      "/var/folders/m8/v1brzj4s56g48wwmpht61td40000gq/T/ipykernel_2409/1285063922.py:1: DeprecationWarning: DataFrameGroupBy.apply operated on the grouping columns. This behavior is deprecated, and in a future version of pandas the grouping columns will be excluded from the operation. Either pass `include_groups=False` to exclude the groupings or explicitly select the grouping columns after groupby to silence this warning.\n",
      "  sample = in_desks.groupby('news_desk').apply(lambda x: x.sample(n=3, random_state=42))\n"
     ]
    }
   ],
   "source": [
    "sample = in_desks.groupby('news_desk').apply(lambda x: x.sample(n=3, random_state=42))"
   ]
  },
  {
   "cell_type": "code",
   "execution_count": 49,
   "metadata": {},
   "outputs": [],
   "source": [
    "headline_sample = sample.headline.tolist()"
   ]
  },
  {
   "cell_type": "code",
   "execution_count": 61,
   "metadata": {},
   "outputs": [],
   "source": [
    "emails = list(Path(\"data/emails/\").glob(\"*.csv\"))"
   ]
  },
  {
   "cell_type": "code",
   "execution_count": 65,
   "metadata": {},
   "outputs": [],
   "source": [
    "headings = []\n",
    "\n",
    "for email in random.sample(emails, 10):\n",
    "    heading = con.execute(f\"SELECT '# ' || newsletter_headline || '\\n\\n' || '## ' || newsletter_sub_hed AS heading FROM '{email}' \").fetchdf().iloc[0, 0]\n",
    "    headings.append(heading)"
   ]
  },
  {
   "cell_type": "code",
   "execution_count": 68,
   "metadata": {},
   "outputs": [],
   "source": [
    "random.shuffle(headline_sample)"
   ]
  },
  {
   "cell_type": "code",
   "execution_count": 76,
   "metadata": {},
   "outputs": [],
   "source": [
    "headline_screen = \"\"\"Q1.\\n\\nThe following is a list of New York Times headlines published between July and August 2024. Please select the headlines that you would be interested in reading.\\n\\n\"\"\" + \"\\n\".join(headline_sample)"
   ]
  },
  {
   "cell_type": "code",
   "execution_count": 77,
   "metadata": {},
   "outputs": [],
   "source": [
    "comparison_texts = []\n",
    "for i, heading in enumerate(headings):\n",
    "    text = f\"Q{i+2}.\\n\\nWhich of these headlines would you be more likely to click on?\\n\\nOption 1: {heading}\\n\\nOption 2: [Personalized headline, randomly ordered]\"\n",
    "    comparison_texts.append(text)\n",
    "\n",
    "comparison_screen = \"\\n\\n\".join(comparison_texts)"
   ]
  },
  {
   "cell_type": "code",
   "execution_count": 79,
   "metadata": {},
   "outputs": [],
   "source": [
    "with open(\"./data/survey.txt\", \"w\") as f:\n",
    "    f.write(headline_screen + \"\\n\\n\" + comparison_screen)"
   ]
  },
  {
   "cell_type": "code",
   "execution_count": null,
   "metadata": {},
   "outputs": [],
   "source": []
  }
 ],
 "metadata": {
  "kernelspec": {
   "display_name": "personalization",
   "language": "python",
   "name": "python3"
  },
  "language_info": {
   "codemirror_mode": {
    "name": "ipython",
    "version": 3
   },
   "file_extension": ".py",
   "mimetype": "text/x-python",
   "name": "python",
   "nbconvert_exporter": "python",
   "pygments_lexer": "ipython3",
   "version": "3.12.4"
  }
 },
 "nbformat": 4,
 "nbformat_minor": 2
}
