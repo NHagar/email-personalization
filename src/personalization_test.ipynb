{
 "cells": [
  {
   "cell_type": "code",
   "execution_count": 24,
   "metadata": {},
   "outputs": [],
   "source": [
    "import json\n",
    "from pathlib import Path\n",
    "\n",
    "from openai import OpenAI\n",
    "from pydantic import BaseModel"
   ]
  },
  {
   "cell_type": "code",
   "execution_count": 2,
   "metadata": {},
   "outputs": [],
   "source": [
    "llm = OpenAI()"
   ]
  },
  {
   "cell_type": "code",
   "execution_count": 3,
   "metadata": {},
   "outputs": [],
   "source": [
    "files = list(Path('../data').rglob('*.md'))"
   ]
  },
  {
   "cell_type": "code",
   "execution_count": 4,
   "metadata": {},
   "outputs": [],
   "source": [
    "test = files[0]"
   ]
  },
  {
   "cell_type": "code",
   "execution_count": 5,
   "metadata": {},
   "outputs": [],
   "source": [
    "with open(test, \"r\") as f:\n",
    "    email = f.read()"
   ]
  },
  {
   "cell_type": "code",
   "execution_count": 35,
   "metadata": {},
   "outputs": [],
   "source": [
    "with open(\"../data/reading_history.txt\", \"r\") as f:\n",
    "    reading_history = f.read()\n",
    "\n",
    "with open(\"prompts/extraction.txt\", \"r\") as f:\n",
    "    prompt_extraction = f.read()\n",
    "\n",
    "with open(\"prompts/infer_interests.txt\", \"r\") as f:\n",
    "    prompt_interest = f.read()"
   ]
  },
  {
   "cell_type": "code",
   "execution_count": 29,
   "metadata": {},
   "outputs": [],
   "source": [
    "class NewsletterItem(BaseModel):\n",
    "    headline: str\n",
    "    url: str\n",
    "    description: str\n",
    "\n",
    "class Newsletter(BaseModel):\n",
    "    title: str\n",
    "    items: list[NewsletterItem]"
   ]
  },
  {
   "cell_type": "code",
   "execution_count": 30,
   "metadata": {},
   "outputs": [],
   "source": [
    "resp = llm.beta.chat.completions.parse(\n",
    "    model=\"gpt-4o-mini\",\n",
    "    messages=[\n",
    "        {\n",
    "            \"role\": \"system\",\n",
    "            \"content\": prompt_extraction\n",
    "        },\n",
    "        {\n",
    "            \"role\": \"user\",\n",
    "            \"content\": email\n",
    "        }\n",
    "    ],\n",
    "    response_format=Newsletter\n",
    ")"
   ]
  },
  {
   "cell_type": "code",
   "execution_count": 31,
   "metadata": {},
   "outputs": [],
   "source": [
    "json_string = resp.choices[0].message.content"
   ]
  },
  {
   "cell_type": "code",
   "execution_count": 32,
   "metadata": {},
   "outputs": [],
   "source": [
    "# parse the json string into a python object\n",
    "parsed = json.loads(json_string)"
   ]
  },
  {
   "cell_type": "code",
   "execution_count": 43,
   "metadata": {},
   "outputs": [],
   "source": [
    "resp = llm.chat.completions.create(\n",
    "    model=\"gpt-4o-mini\",\n",
    "    messages=[\n",
    "        {\n",
    "            \"role\": \"system\",\n",
    "            \"content\": prompt_interest\n",
    "        },\n",
    "        {\n",
    "            \"role\": \"user\",\n",
    "            \"content\": reading_history\n",
    "        }\n",
    "    ]\n",
    ")"
   ]
  },
  {
   "cell_type": "code",
   "execution_count": 44,
   "metadata": {},
   "outputs": [
    {
     "name": "stdout",
     "output_type": "stream",
     "text": [
      "Based on the diverse range of articles read by this user, it appears that they have a keen interest in several key areas:\n",
      "\n",
      "1. **Politics and Elections**: Many articles focus on political figures, election dynamics, and polling, especially related to Kamala Harris, Donald Trump, and the upcoming Senate races. This indicates a strong interest in U.S. politics, election strategies, and the implications of various political events.\n",
      "\n",
      "2. **Economic and Labor Issues**: The user reads articles addressing employment statistics and economic challenges, suggesting an awareness of the labor market and its influences on wider economic trends.\n",
      "\n",
      "3. **Technology and AI**: Several articles delve into topics related to artificial intelligence, its implications for different sectors (including media and workplaces), and controversies surrounding tech giants. This suggests a deep interest in the intersection of technology with everyday life and its societal impacts.\n",
      "\n",
      "4. **Social Issues and Safety**: Articles on deepfakes, sextortion, and the experiences of employees with autism reflect a concern for digital ethics, social safety, and the challenges faced by marginalized groups.\n",
      "\n",
      "5. **Cultural Commentary**: The user engages with topics in entertainment, such as movie reviews, the impact of AI on cinema, and discussions around popular figures like MrBeast and Keanu Reeves. This indicates a broader interest in pop culture and media narratives.\n",
      "\n",
      "6. **Current Events and Global Affairs**: Reading about international incidents, such as the situation in Ukraine and various geopolitical issues, shows an inclination toward understanding global dynamics and their implications for the U.S.\n",
      "\n",
      "7. **Health and Lifestyle**: Articles touching on health-related themes, such as diets and innovations in medical treatments, suggest an interest in personal well-being and the evolving landscape of healthcare.\n",
      "\n",
      "Overall, this user seems to be informed and engaged, with a proclivity for current affairs, cultural trends, and the socioeconomic implications of technology and politics.\n"
     ]
    }
   ],
   "source": [
    "print(resp.choices[0].message.content)"
   ]
  },
  {
   "cell_type": "code",
   "execution_count": null,
   "metadata": {},
   "outputs": [],
   "source": []
  }
 ],
 "metadata": {
  "kernelspec": {
   "display_name": "email",
   "language": "python",
   "name": "python3"
  },
  "language_info": {
   "codemirror_mode": {
    "name": "ipython",
    "version": 3
   },
   "file_extension": ".py",
   "mimetype": "text/x-python",
   "name": "python",
   "nbconvert_exporter": "python",
   "pygments_lexer": "ipython3",
   "version": "3.12.5"
  }
 },
 "nbformat": 4,
 "nbformat_minor": 2
}
