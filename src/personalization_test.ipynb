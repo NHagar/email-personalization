{
 "cells": [
  {
   "cell_type": "code",
   "execution_count": 107,
   "metadata": {},
   "outputs": [],
   "source": [
    "import json\n",
    "from pathlib import Path\n",
    "from random import shuffle\n",
    "\n",
    "from openai import OpenAI\n",
    "from pydantic import BaseModel"
   ]
  },
  {
   "cell_type": "code",
   "execution_count": 2,
   "metadata": {},
   "outputs": [],
   "source": [
    "llm = OpenAI()"
   ]
  },
  {
   "cell_type": "code",
   "execution_count": 3,
   "metadata": {},
   "outputs": [],
   "source": [
    "files = list(Path('../data').rglob('*.md'))"
   ]
  },
  {
   "cell_type": "code",
   "execution_count": 134,
   "metadata": {},
   "outputs": [],
   "source": [
    "test = files[4]"
   ]
  },
  {
   "cell_type": "code",
   "execution_count": 136,
   "metadata": {},
   "outputs": [],
   "source": [
    "with open(test, \"r\") as f:\n",
    "    email = f.read()"
   ]
  },
  {
   "cell_type": "code",
   "execution_count": 137,
   "metadata": {},
   "outputs": [],
   "source": [
    "with open(\"../data/reading_history_filtered.txt\", \"r\") as f:\n",
    "    reading_history = f.read()\n",
    "\n",
    "with open(\"prompts/extraction.txt\", \"r\") as f:\n",
    "    prompt_extraction = f.read()\n",
    "\n",
    "with open(\"prompts/infer_interests.txt\", \"r\") as f:\n",
    "    prompt_interest = f.read()\n",
    "\n",
    "with open(\"prompts/personalization.txt\", \"r\") as f:\n",
    "    prompt_personalization = f.read()"
   ]
  },
  {
   "cell_type": "code",
   "execution_count": 138,
   "metadata": {},
   "outputs": [],
   "source": [
    "class NewsletterItem(BaseModel):\n",
    "    headline: str\n",
    "    url: str\n",
    "    description: str\n",
    "\n",
    "class Newsletter(BaseModel):\n",
    "    title: str\n",
    "    items: list[NewsletterItem]"
   ]
  },
  {
   "cell_type": "code",
   "execution_count": 139,
   "metadata": {},
   "outputs": [],
   "source": [
    "resp = llm.beta.chat.completions.parse(\n",
    "    model=\"gpt-4o-mini\",\n",
    "    messages=[\n",
    "        {\n",
    "            \"role\": \"system\",\n",
    "            \"content\": prompt_extraction\n",
    "        },\n",
    "        {\n",
    "            \"role\": \"user\",\n",
    "            \"content\": email\n",
    "        }\n",
    "    ],\n",
    "    response_format=Newsletter\n",
    ")"
   ]
  },
  {
   "cell_type": "code",
   "execution_count": 140,
   "metadata": {},
   "outputs": [],
   "source": [
    "json_string = resp.choices[0].message.content\n",
    "json_parsed = json.loads(json_string)"
   ]
  },
  {
   "cell_type": "code",
   "execution_count": 141,
   "metadata": {},
   "outputs": [],
   "source": [
    "# randomly order the items\n",
    "formatted_items = [f\"HEADLINE: {i['headline']}\\nDESCRIPTION: {i['description']}\" for i in json_parsed[\"items\"]]\n",
    "shuffle(formatted_items)"
   ]
  },
  {
   "cell_type": "code",
   "execution_count": 142,
   "metadata": {},
   "outputs": [
    {
     "data": {
      "text/plain": [
       "[\"HEADLINE: Zoë Kravitz was frustrated, so she made a movie\\nDESCRIPTION: Actress Zoë Kravitz channels her frustrations into her directorial debut, the horror-mystery film 'Blink Twice', which opens today.\",\n",
       " 'HEADLINE: Powell said the ‘time has come’ for interest rate cuts\\nDESCRIPTION: Jerome Powell announced that the Federal Reserve is likely to lower interest rates next month to support the job market after holding them steady for over a year.',\n",
       " 'HEADLINE: Democrats Are Upbeat, but Face a Tough Race Ahead\\nDESCRIPTION: Despite a jubilant atmosphere at the Democratic convention in Chicago, Kamala Harris and fellow Democrats face a tough electoral challenge ahead.',\n",
       " \"HEADLINE: Ukraine ramped up its attacks in Russia\\nDESCRIPTION: Ukrainian forces have gained control over more territory in Russia's Kursk region and have intensified attacks on key Russian military infrastructure.\"]"
      ]
     },
     "execution_count": 142,
     "metadata": {},
     "output_type": "execute_result"
    }
   ],
   "source": [
    "formatted_items"
   ]
  },
  {
   "cell_type": "code",
   "execution_count": 149,
   "metadata": {},
   "outputs": [],
   "source": [
    "personalization_input_format = f\"\"\"USER READING HISTORY: {reading_history}\n",
    "\n",
    "NEWSLETTER ITEMS: {'\\n'.join(formatted_items)}\n",
    "\"\"\""
   ]
  },
  {
   "cell_type": "code",
   "execution_count": 150,
   "metadata": {},
   "outputs": [],
   "source": [
    "personalization_resp = llm.chat.completions.create(\n",
    "    model=\"gpt-4o-mini\",\n",
    "    messages=[\n",
    "        {\n",
    "            \"role\": \"system\",\n",
    "            \"content\": prompt_personalization\n",
    "        },\n",
    "        {\n",
    "            \"role\": \"user\",\n",
    "            \"content\": personalization_input_format\n",
    "        }\n",
    "    ]\n",
    ")"
   ]
  },
  {
   "cell_type": "code",
   "execution_count": 151,
   "metadata": {},
   "outputs": [
    {
     "name": "stdout",
     "output_type": "stream",
     "text": [
      "==!BEGIN INTERNAL REASONING!==\n",
      "Analyzing the reader's recent reading history shows an eclectic mix of interests, ranging from pop culture and entertainment (e.g., articles about Keanu Reeves, Martin Mull, and Bo Burnham) to more serious topics concerning social issues (e.g., autistic employees navigating workplaces and the housing situation in Sweden). This reader seems to appreciate a blend of quirky, insightful storytelling and significant global stories, particularly those that highlight societal changes or evoke emotional engagement.\n",
      "\n",
      "For the newsletter items, I sense that I need to align a selected headline with themes that resonate with this reader. The movie directed by Zoë Kravitz stands out as it combines the entertainment industry (which the reader has shown interest in) with a personal touch regarding how frustrations can lead to artistic expression. Additionally, topics surrounding societal issues, like the race dynamics within the Democratic party or ongoing conflicts, could also intrigue them. However, the connection to pop culture remains stronger based on the user’s interests.\n",
      "\n",
      "Among the newsletter items, the most relevant choice is Zoë Kravitz's new movie, as it taps into the reader's apparent fascination with film and celebrity culture. The play on emotional responses from creative endeavors can also resonate with someone interested in how societal moods impact individual creativity.\n",
      "\n",
      "The subject line should thus highlight Kravitz's personal journey and artistic output, while the sub-heading should succinctly capture the film's debut and its themes. This approach stays true to the New York Times' style of offering clear and engaging headlines while providing substantive context in the sub-heading.\n",
      "\n",
      "==!END INTERNAL REASONING!==\n",
      "==!BEGIN OUTPUT!==\n",
      "# Zoë Kravitz Turns Frustration Into Art in Directorial Debut\n",
      "## Her horror-mystery film, 'Blink Twice', opens today—exploring themes of creativity and emotional struggle in the cinematic landscape.\n",
      "==!END OUTPUT!==\n"
     ]
    }
   ],
   "source": [
    "print(personalization_resp.choices[0].message.content)"
   ]
  },
  {
   "cell_type": "code",
   "execution_count": null,
   "metadata": {},
   "outputs": [],
   "source": []
  }
 ],
 "metadata": {
  "kernelspec": {
   "display_name": "email",
   "language": "python",
   "name": "python3"
  },
  "language_info": {
   "codemirror_mode": {
    "name": "ipython",
    "version": 3
   },
   "file_extension": ".py",
   "mimetype": "text/x-python",
   "name": "python",
   "nbconvert_exporter": "python",
   "pygments_lexer": "ipython3",
   "version": "3.12.5"
  }
 },
 "nbformat": 4,
 "nbformat_minor": 2
}
