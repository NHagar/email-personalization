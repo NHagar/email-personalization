{
 "cells": [
  {
   "cell_type": "code",
   "execution_count": 24,
   "metadata": {},
   "outputs": [],
   "source": [
    "import json\n",
    "from pathlib import Path\n",
    "\n",
    "from openai import OpenAI\n",
    "from pydantic import BaseModel"
   ]
  },
  {
   "cell_type": "code",
   "execution_count": 2,
   "metadata": {},
   "outputs": [],
   "source": [
    "llm = OpenAI()"
   ]
  },
  {
   "cell_type": "code",
   "execution_count": 3,
   "metadata": {},
   "outputs": [],
   "source": [
    "files = list(Path('../data').rglob('*.md'))"
   ]
  },
  {
   "cell_type": "code",
   "execution_count": 4,
   "metadata": {},
   "outputs": [],
   "source": [
    "test = files[0]"
   ]
  },
  {
   "cell_type": "code",
   "execution_count": 5,
   "metadata": {},
   "outputs": [],
   "source": [
    "with open(test, \"r\") as f:\n",
    "    email = f.read()"
   ]
  },
  {
   "cell_type": "code",
   "execution_count": 35,
   "metadata": {},
   "outputs": [],
   "source": [
    "with open(\"../data/reading_history.txt\", \"r\") as f:\n",
    "    reading_history = f.read()\n",
    "\n",
    "with open(\"prompts/extraction.txt\", \"r\") as f:\n",
    "    prompt_extraction = f.read()\n",
    "\n",
    "with open(\"prompts/infer_interests.txt\", \"r\") as f:\n",
    "    prompt_interest = f.read()"
   ]
  },
  {
   "cell_type": "code",
   "execution_count": 29,
   "metadata": {},
   "outputs": [],
   "source": [
    "class NewsletterItem(BaseModel):\n",
    "    headline: str\n",
    "    url: str\n",
    "    description: str\n",
    "\n",
    "class Newsletter(BaseModel):\n",
    "    title: str\n",
    "    items: list[NewsletterItem]"
   ]
  },
  {
   "cell_type": "code",
   "execution_count": 30,
   "metadata": {},
   "outputs": [],
   "source": [
    "resp = llm.beta.chat.completions.parse(\n",
    "    model=\"gpt-4o-mini\",\n",
    "    messages=[\n",
    "        {\n",
    "            \"role\": \"system\",\n",
    "            \"content\": prompt_extraction\n",
    "        },\n",
    "        {\n",
    "            \"role\": \"user\",\n",
    "            \"content\": email\n",
    "        }\n",
    "    ],\n",
    "    response_format=Newsletter\n",
    ")"
   ]
  },
  {
   "cell_type": "code",
   "execution_count": 31,
   "metadata": {},
   "outputs": [],
   "source": [
    "json_string = resp.choices[0].message.content"
   ]
  },
  {
   "cell_type": "code",
   "execution_count": 32,
   "metadata": {},
   "outputs": [],
   "source": [
    "# parse the json string into a python object\n",
    "parsed = json.loads(json_string)"
   ]
  },
  {
   "cell_type": "code",
   "execution_count": 36,
   "metadata": {},
   "outputs": [],
   "source": [
    "resp = llm.chat.completions.create(\n",
    "    model=\"gpt-4o-mini\",\n",
    "    messages=[\n",
    "        {\n",
    "            \"role\": \"system\",\n",
    "            \"content\": prompt_interest\n",
    "        },\n",
    "        {\n",
    "            \"role\": \"user\",\n",
    "            \"content\": reading_history\n",
    "        }\n",
    "    ]\n",
    ")"
   ]
  },
  {
   "cell_type": "code",
   "execution_count": 39,
   "metadata": {},
   "outputs": [
    {
     "name": "stdout",
     "output_type": "stream",
     "text": [
      "Based on the articles the user has read recently, it appears they are interested in a wide array of topics, primarily centered around current events, politics, technology, and media. \n",
      "\n",
      "1. **Politics and Elections**: The user seems to follow political developments closely, as evidenced by articles regarding Kamala Harris, Senate races, Biden's decision-making, and polling data on elections. There is also interest in the broader implications of political events, such as the challenges facing various candidates and the strategies used in campaigning.\n",
      "\n",
      "2. **Technology and AI**: There is a strong focus on technology, particularly the impact of artificial intelligence on society, privacy issues, and how tech companies manage these challenges. The user seems intrigued by the intersection of technology with everyday life and societal changes.\n",
      "\n",
      "3. **Social Issues and Culture**: Several articles delve into social issues, including mental health in the workplace, the response to extremism, and public safety. The user also engages with cultural themes such as media controversies, celebrity culture, and emerging societal trends.\n",
      "\n",
      "4. **Economic Concerns**: Economic reports and job market statistics suggest an interest in economic issues and employment trends. The user is also concerned with the financial implications of events and policies, such as the effects of housing strategies and local government decisions.\n",
      "\n",
      "5. **Entertainment and Media**: The user keeps up with trends in music, film, and books, indicating an interest in cultural criticism and entertainment industry dynamics. Articles covering the Oscars, popular movies of the year, and media production challenges highlight a sustained engagement with popular culture.\n",
      "\n",
      "6. **Public Health and Safety**: The user has read articles that touch on health issues and societal welfare, including discussions on gene therapies and safety in public life. \n",
      "\n",
      "Overall, the user appears to have a keen interest in how political, technological, and social dynamics intersect and influence contemporary life, along with a critical view of media and culture.\n"
     ]
    }
   ],
   "source": [
    "print(resp.choices[0].message.content)"
   ]
  },
  {
   "cell_type": "code",
   "execution_count": null,
   "metadata": {},
   "outputs": [],
   "source": []
  }
 ],
 "metadata": {
  "kernelspec": {
   "display_name": "email",
   "language": "python",
   "name": "python3"
  },
  "language_info": {
   "codemirror_mode": {
    "name": "ipython",
    "version": 3
   },
   "file_extension": ".py",
   "mimetype": "text/x-python",
   "name": "python",
   "nbconvert_exporter": "python",
   "pygments_lexer": "ipython3",
   "version": "3.12.5"
  }
 },
 "nbformat": 4,
 "nbformat_minor": 2
}
