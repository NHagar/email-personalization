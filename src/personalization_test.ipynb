{
 "cells": [
  {
   "cell_type": "code",
   "execution_count": 24,
   "metadata": {},
   "outputs": [],
   "source": [
    "import json\n",
    "from pathlib import Path\n",
    "\n",
    "from openai import OpenAI\n",
    "from pydantic import BaseModel"
   ]
  },
  {
   "cell_type": "code",
   "execution_count": 2,
   "metadata": {},
   "outputs": [],
   "source": [
    "llm = OpenAI()"
   ]
  },
  {
   "cell_type": "code",
   "execution_count": 3,
   "metadata": {},
   "outputs": [],
   "source": [
    "files = list(Path('../data').rglob('*.md'))"
   ]
  },
  {
   "cell_type": "code",
   "execution_count": 53,
   "metadata": {},
   "outputs": [],
   "source": [
    "test = files[1]"
   ]
  },
  {
   "cell_type": "code",
   "execution_count": 54,
   "metadata": {},
   "outputs": [],
   "source": [
    "with open(test, \"r\") as f:\n",
    "    email = f.read()"
   ]
  },
  {
   "cell_type": "code",
   "execution_count": 68,
   "metadata": {},
   "outputs": [],
   "source": [
    "with open(\"../data/reading_history.txt\", \"r\") as f:\n",
    "    reading_history = f.read()\n",
    "\n",
    "with open(\"prompts/extraction.txt\", \"r\") as f:\n",
    "    prompt_extraction = f.read()\n",
    "\n",
    "with open(\"prompts/infer_interests.txt\", \"r\") as f:\n",
    "    prompt_interest = f.read()\n",
    "\n",
    "with open(\"prompts/personalization.txt\", \"r\") as f:\n",
    "    prompt_personalization = f.read()"
   ]
  },
  {
   "cell_type": "code",
   "execution_count": 56,
   "metadata": {},
   "outputs": [],
   "source": [
    "class NewsletterItem(BaseModel):\n",
    "    headline: str\n",
    "    url: str\n",
    "    description: str\n",
    "\n",
    "class Newsletter(BaseModel):\n",
    "    title: str\n",
    "    items: list[NewsletterItem]"
   ]
  },
  {
   "cell_type": "code",
   "execution_count": 57,
   "metadata": {},
   "outputs": [],
   "source": [
    "resp = llm.beta.chat.completions.parse(\n",
    "    model=\"gpt-4o-mini\",\n",
    "    messages=[\n",
    "        {\n",
    "            \"role\": \"system\",\n",
    "            \"content\": prompt_extraction\n",
    "        },\n",
    "        {\n",
    "            \"role\": \"user\",\n",
    "            \"content\": email\n",
    "        }\n",
    "    ],\n",
    "    response_format=Newsletter\n",
    ")"
   ]
  },
  {
   "cell_type": "code",
   "execution_count": 58,
   "metadata": {},
   "outputs": [],
   "source": [
    "json_string = resp.choices[0].message.content"
   ]
  },
  {
   "cell_type": "code",
   "execution_count": 59,
   "metadata": {},
   "outputs": [],
   "source": [
    "resp = llm.chat.completions.create(\n",
    "    model=\"gpt-4o-mini\",\n",
    "    messages=[\n",
    "        {\n",
    "            \"role\": \"system\",\n",
    "            \"content\": prompt_interest\n",
    "        },\n",
    "        {\n",
    "            \"role\": \"user\",\n",
    "            \"content\": reading_history\n",
    "        }\n",
    "    ]\n",
    ")"
   ]
  },
  {
   "cell_type": "code",
   "execution_count": 60,
   "metadata": {},
   "outputs": [],
   "source": [
    "notes = resp.choices[0].message.content"
   ]
  },
  {
   "cell_type": "code",
   "execution_count": 61,
   "metadata": {},
   "outputs": [],
   "source": [
    "personalization_input_format = f\"\"\"USER READING HISTORY: {reading_history}\n",
    "\n",
    "USER INTEREST NOTES: {notes}\n",
    "\n",
    "NEWSLETTER ITEMS: {json_string}\n",
    "\"\"\""
   ]
  },
  {
   "cell_type": "code",
   "execution_count": 69,
   "metadata": {},
   "outputs": [],
   "source": [
    "personalization_resp = llm.chat.completions.create(\n",
    "    model=\"gpt-4o-mini\",\n",
    "    messages=[\n",
    "        {\n",
    "            \"role\": \"system\",\n",
    "            \"content\": prompt_personalization\n",
    "        },\n",
    "        {\n",
    "            \"role\": \"user\",\n",
    "            \"content\": personalization_input_format\n",
    "        }\n",
    "    ]\n",
    ")"
   ]
  },
  {
   "cell_type": "code",
   "execution_count": 70,
   "metadata": {},
   "outputs": [
    {
     "data": {
      "text/plain": [
       "'```\\n# Harris and Trump Squabble Over Debate Rules\\n## Also, Russian missiles strike Ukraine’s energy infrastructure. Here’s the latest at the end of Monday.\\n```'"
      ]
     },
     "execution_count": 70,
     "metadata": {},
     "output_type": "execute_result"
    }
   ],
   "source": [
    "personalization_resp.choices[0].message.content"
   ]
  },
  {
   "cell_type": "code",
   "execution_count": 67,
   "metadata": {},
   "outputs": [
    {
     "name": "stdout",
     "output_type": "stream",
     "text": [
      "USER READING HISTORY: Harris Faces Challenge of Translating Convention Joy to Fall Momentum\n",
      "U.S. Added 818,000 Fewer Jobs Than Reported Earlier\n",
      "How Harris Has Completely Upended the Presidential Race, in 14 Maps\n",
      "San Francisco Moves to Lead Fight Against Deepfake Nudes\n",
      "Crucial Senate Race in Wisconsin Is Set Between Eric Hovde and Tammy Baldwin\n",
      "Who Won the Olympics? All the Ways We Could Think Of to Track the Medal Count.\n",
      "Plane Carrying 62 People Crashes in Brazil\n",
      "Willing to Die for MrBeast (and $5 Million)\n",
      "J.D. Vance Stumbles in His Debut, as Democrats Go on Offense\n",
      "Harris Narrows Gap Against Trump, Times/Siena Poll Finds\n",
      "Who Might Kamala Harris Pick as Her Running Mate?\n",
      "Aaron Sorkin: How I Would Script This Moment for Biden and the Democrats\n",
      "What Happened in the Final Moments as Biden Decided to Withdraw\n",
      "Dozens of Local Police Officers Were at Trump's Rally. Very Few Were Watching a Critical Area.\n",
      "Keanu Reeves Wrote a Book. A Really Weird One.\n",
      "What Your Grocery Cart Says About You\n",
      "Employees With Autism Find New Ways to Navigate the Workplace\n",
      "Behind the Curtain at the Supreme Court\n",
      "Martin Mull, Comic Actor Who Starred in ‘Mary Hartman,’ Dies at 80\n",
      "To Serve His Country, President Biden Should Leave the Race\n",
      "Robert F. Kennedy Jr.’s Conspiracy of Ravens\n",
      "How an American Dream of Housing Became a Reality in Sweden\n",
      "How Mark Zuckerberg’s Meta Failed Children on Safety, States Say\n",
      "The Resistance to a New Trump Administration Has Already Started\n",
      "Sleepless in Seattle as a Hellcat Roars Through the Streets\n",
      "How A.I. Made Mark Zuckerberg Popular Again in Silicon Valley\n",
      "They’re Ignoring MrBeast’s Rules of YouTube, and Thriving\n",
      "If A.I. Can Do Your Job, Maybe It Can Also Replace Your C.E.O.\n",
      "Jury Deliberations Have Started in Trump’s Trial. Here’s How They Work.\n",
      "Chicago Is Tired of Waiting for Trains, and Thinks It Knows Who’s to Blame\n",
      "Renting Forever and Trying to Create a Strong Financial Future\n",
      "Bo Burnham Is Everywhere. He’s Just Very Good at Pretending to Disappear.\n",
      "Do Pimple Patches Work?\n",
      "‘Chelsea’ Asked for Nude Pictures. Then the Sextortion Began.\n",
      "The Old-Fashioned Library at the Heart of the A.I. Boom\n",
      "The 25 Best Restaurants in Washington, D.C., Right Now\n",
      "First Patient Begins Newly Approved Sickle Cell Gene Therapy\n",
      "The Book Review’s Best Books Since 2000\n",
      "With Paramount in Chaos and Its Future Uncertain, Its Chief Steps Down\n",
      "In Ukraine, New American Technology Won the Day. Until It Was Overwhelmed.\n",
      "From a Tiny Island in Maine, He Serves Up Fresh Media Gossip\n",
      "A.I. Made These Movies Sharper. Critics Say It Ruined Them.\n",
      "Farewell, and Thanks, to a Man Who Kept Kids Safe\n",
      "A.I. Has a Measurement Problem\n",
      "Gen Z Wanted a Scrabble More Conducive to Hanging Out. Mattel Was Happy to Oblige.\n",
      "Huey Lewis Lost His Hearing. That Didn’t Stop Him From Making a Musical.\n",
      "Vatican Document Casts Gender Change and Fluidity as Threat to Human Dignity\n",
      "What’s the Cloud Forecast for Eclipse Day? See if the Weather Is on Your Side.\n",
      "Salt Is Hiding Everywhere. Can You Spot It?\n",
      "How Tech Giants Cut Corners to Harvest Data for A.I.\n",
      "Can We Engineer Our Way Out of the Climate Crisis?\n",
      "Tangled in Steel With No Way Out: How the Crew Stuck in Baltimore Is Faring\n",
      "Stabbing Attack in Illinois Leaves 4 Dead and 5 Injured\n",
      "In Russia, Fingers Point Anywhere but at ISIS for Concert Hall Attack\n",
      "The Hotel Guest Who Wouldn’t Leave\n",
      "States Have Spent $25 Billion to Woo Hollywood. Is It Worth It?\n",
      "Reddit’s I.P.O. Is a Content Moderation Success Story\n",
      "How Does Paris Stay Paris? By Pouring Billions Into Public Housing\n",
      "Saudi Arabia Plans $40 Billion Push Into Artificial Intelligence\n",
      "How to Win Friends and Hustle People\n",
      "Russia’s 2024 Presidential Vote: What to Know\n",
      "How Trump Is Scrambling to Raise Cash\n",
      "Test Your Exercise I.Q.\n",
      "Inside the Massive Repair Shops Where Subway Cars Go for a Makeover\n",
      "How Bad Can It Get for Hollywood?\n",
      "Behind Apple’s Doomed Car Project: False Starts and Wrong Turns\n",
      "Sure, It Won an Oscar. But Is It Criterion?\n",
      "How the Media Industry Keeps Losing the Future\n",
      "Richard Lewis, Acerbic Comedian and Character Actor, Dies at 76\n",
      "Can a Vegas Legend Get Super Bowl Tickets? (Asking for Carrot Top.)\n",
      "Is It Still Worth Going to the Movies?\n",
      "8 Sex Myths That Experts Wish Would Go Away\n",
      "Mario Can’t Be Super Without Psychedelic Power-Ups\n",
      "Still Mourning Takeoff’s Death, Quavo Steps Out Alone\n",
      "Ukraine Has a New Military Commander but the Problems Haven’t Changed\n",
      "The Great Freight-Train Heists of the 21st Century\n",
      "Penguins Take Thousands of Naps Every Day\n",
      "The Sex-Obsessed Marsupials That Will Sleep When They’re Dead\n",
      "Oscar Nominees 2024\n",
      "Hit Men Are Easy to Find in the Movies. Real Life Is Another Story.\n",
      "Britain’s Newest Sports Sensation Is a 16-Year-Old Darts Player\n",
      "The Times Sues OpenAI and Microsoft Over A.I. Use of Copyrighted Work\n",
      "What Is the Keto Diet and Does It Work?\n",
      "How the Russian Government Silences Wartime Dissent\n",
      "Just How Formulaic Are Hallmark and Lifetime Holiday Movies? We (Over)analyzed 424 of Them.\n",
      "When Help Shows Up After a House Fire, It Might Be Gang Members\n",
      "Jon Fosse Wants to Say the Unsayable\n",
      "Are We All Authoritarians at Heart?\n",
      "Best TV Shows of 2023\n",
      "Despite McConnell Legacy Push, Ukraine Funding in Increasing Jeopardy\n",
      "U.S. Is Pressing Israel and Hamas to Resume Talks, White House Official Says\n",
      "Best Movies of 2023\n",
      "They Charge $6 to Clean Your Shirt. They Make 13 Cents On It.\n",
      "Pope’s Critics Feel the Sting After His Patience Runs Out\n",
      "Macy’s Thanksgiving Day Parade Draws Spectators and Protests\n",
      "100 Notable Books of 2023\n",
      "Microsoft Hires Sam Altman Hours After OpenAI Rejects His Return\n",
      "Test Your Protein Knowledge\n",
      "OpenAI’s Board Pushes Out Sam Altman, Its High-Profile C.E.O.\n",
      "As Catholic Leaders Met, Fired Bishop Took His Message to the Street\n",
      "\n",
      "USER INTEREST NOTES: Based on the articles this user has read recently, it appears they have a keen interest in a variety of topics primarily centered around politics, current events, technology, and culture. \n",
      "\n",
      "1. **Political Dynamics**: Articles related to U.S. politics, such as the presidential race, key Senate races, and public opinion polls regarding Kamala Harris and Donald Trump suggest a focus on political strategy and election outcomes. The user seems particularly interested in political challenges and shifts, depicted by their engagement with items mentioning campaign dynamics and major decisions affecting presidential candidates.\n",
      "\n",
      "2. **Employment and Economic Issues**: The user seems to engage with articles discussing job statistics, workplace challenges for individuals with autism, and emerging economic themes. The user might be interested in how economic conditions affect society and the workforce.\n",
      "\n",
      "3. **Technology and Ethics**: The presence of articles about deepfakes, artificial intelligence's impact on jobs and culture, and the role of big tech companies indicates a strong interest in the ramifications of technology on society, including ethical considerations related to data privacy and safety. \n",
      "\n",
      "4. **Social Awareness and Advocacy**: Topics surrounding mental health, gender identity, and community issues, along with articles spotlighting the influence of social media on youth, suggest that the user is attuned to social justice and advocacy themes. \n",
      "\n",
      "5. **Entertainment and Culture**: The articles discussing film reviews, best books, and trending television shows reveal a nuanced interest in cultural critiques and the arts, including a blend of popular and influential media. \n",
      "\n",
      "6. **Global Affairs**: Articles regarding international events like the situation in Ukraine and discussions about U.S. foreign policy reflect an engagement with global issues, suggesting a broad interest in how domestic politics relate to international relations.\n",
      "\n",
      "In summary, this user likely has a diverse set of interests that spans political analysis, economic issues, technological impact, social advocacy, and cultural trends.\n",
      "\n",
      "NEWSLETTER ITEMS: {\"title\":\"Evening Briefing\",\"items\":[{\"headline\":\"Harris and Trump Squabbled Over Debate Rules\",\"url\":\"https://www.nytimes.com/2024/08/26/briefing/trump-harris-debate-russia-ukraine-strikes.html\",\"description\":\"Donald Trump expressed uncertainty about participating in a debate with Kamala Harris, prompting her campaign to push for changes in the rules regarding microphone usage.\"},{\"headline\":\"Russia attacked Ukraine’s energy infrastructure\",\"url\":\"https://www.nytimes.com/2024/08/26/world/europe/russia-ukraine-missiles-kyiv.html\",\"description\":\"Russian forces launched a significant attack on Ukraine, firing over 200 missiles and drones, resulting in damage to energy infrastructure and civilian casualties.\"},{\"headline\":\"French officials explained the Telegram founder’s arrest\",\"url\":\"https://www.nytimes.com/2024/08/26/business/telegram-founder-arrest-france.html\",\"description\":\"Pavel Durov, the founder of Telegram, was arrested in France amid an investigation into criminal activity on the app, though he has not been charged.\"},{\"headline\":\"Day 1 of the U.S. Open\",\"url\":\"https://www.nytimes.com/athletic/live-blogs/us-open-2024-tennis-live-updates-day-1-schedule-results/HsU3Kzkanl0v/\",\"description\":\"The U.S. Open commenced with exciting matches and notable performances from players like Coco Gauff and Ben Shelton.\"},{\"headline\":\"The reigning couple of Russian translation\",\"url\":\"https://www.nytimes.com/2024/08/26/books/larissa-volokhonsky-richard-pevear.html\",\"description\":\"Translators Richard Pevear and Larissa Volokhonsky have made significant contributions to making Russian literature accessible in English for over thirty years.\"}]}\n",
      "\n"
     ]
    }
   ],
   "source": [
    "print(personalization_input_format)"
   ]
  },
  {
   "cell_type": "code",
   "execution_count": null,
   "metadata": {},
   "outputs": [],
   "source": []
  }
 ],
 "metadata": {
  "kernelspec": {
   "display_name": "email",
   "language": "python",
   "name": "python3"
  },
  "language_info": {
   "codemirror_mode": {
    "name": "ipython",
    "version": 3
   },
   "file_extension": ".py",
   "mimetype": "text/x-python",
   "name": "python",
   "nbconvert_exporter": "python",
   "pygments_lexer": "ipython3",
   "version": "3.12.5"
  }
 },
 "nbformat": 4,
 "nbformat_minor": 2
}
